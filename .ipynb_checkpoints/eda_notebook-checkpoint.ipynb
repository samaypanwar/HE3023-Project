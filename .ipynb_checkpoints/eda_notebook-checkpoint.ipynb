{
 "cells": [
  {
   "cell_type": "code",
   "execution_count": 11,
   "metadata": {},
   "outputs": [],
   "source": [
    "# HYPER PARAMETERS\n",
    "\n",
    "PAST_DATA_START = \"1978\"\n",
    "PAST_DATA_END = \"1983\"\n",
    "\n",
    "CURRENT_DATA_START = \"2016\"\n",
    "CURRENT_DATA_END = \"2021\""
   ]
  },
  {
   "cell_type": "code",
   "execution_count": 12,
   "metadata": {},
   "outputs": [],
   "source": [
    "import arch\n",
    "import matplotlib.pyplot as plt\n",
    "plt.style.use(\"seaborn\")\n",
    "from arch.unitroot import PhillipsPerron\n",
    "import pandas as pd\n",
    "import numpy as np\n",
    "import statsmodels.api as sm\n",
    "\n",
    "\n",
    "data = pd.read_csv(\"dataset.csv\", index_col = 0, parse_dates = True)\n",
    "data.columns = ['Inflation', 'Unemployment', 'Inflation_Expectations']\n",
    "data = data[['Inflation', 'Unemployment']]\n",
    "\n",
    "past_data = data[PAST_DATA_START: PAST_DATA_END]\n",
    "current_data = data[CURRENT_DATA_START: CURRENT_DATA_END]\n"
   ]
  },
  {
   "cell_type": "code",
   "execution_count": 13,
   "metadata": {},
   "outputs": [
    {
     "data": {
      "text/html": [
       "<div>\n",
       "<style scoped>\n",
       "    .dataframe tbody tr th:only-of-type {\n",
       "        vertical-align: middle;\n",
       "    }\n",
       "\n",
       "    .dataframe tbody tr th {\n",
       "        vertical-align: top;\n",
       "    }\n",
       "\n",
       "    .dataframe thead th {\n",
       "        text-align: right;\n",
       "    }\n",
       "</style>\n",
       "<table border=\"1\" class=\"dataframe\">\n",
       "  <thead>\n",
       "    <tr style=\"text-align: right;\">\n",
       "      <th></th>\n",
       "      <th>Inflation</th>\n",
       "      <th>Unemployment</th>\n",
       "    </tr>\n",
       "    <tr>\n",
       "      <th>DATE</th>\n",
       "      <th></th>\n",
       "      <th></th>\n",
       "    </tr>\n",
       "  </thead>\n",
       "  <tbody>\n",
       "    <tr>\n",
       "      <th>1978-01-01</th>\n",
       "      <td>6.81431</td>\n",
       "      <td>6.4</td>\n",
       "    </tr>\n",
       "    <tr>\n",
       "      <th>1978-02-01</th>\n",
       "      <td>6.23946</td>\n",
       "      <td>6.3</td>\n",
       "    </tr>\n",
       "    <tr>\n",
       "      <th>1978-03-01</th>\n",
       "      <td>6.37584</td>\n",
       "      <td>6.3</td>\n",
       "    </tr>\n",
       "    <tr>\n",
       "      <th>1978-04-01</th>\n",
       "      <td>6.50000</td>\n",
       "      <td>6.1</td>\n",
       "    </tr>\n",
       "    <tr>\n",
       "      <th>1978-05-01</th>\n",
       "      <td>7.14286</td>\n",
       "      <td>6.0</td>\n",
       "    </tr>\n",
       "    <tr>\n",
       "      <th>...</th>\n",
       "      <td>...</td>\n",
       "      <td>...</td>\n",
       "    </tr>\n",
       "    <tr>\n",
       "      <th>2021-08-01</th>\n",
       "      <td>5.20248</td>\n",
       "      <td>5.2</td>\n",
       "    </tr>\n",
       "    <tr>\n",
       "      <th>2021-09-01</th>\n",
       "      <td>5.37730</td>\n",
       "      <td>4.7</td>\n",
       "    </tr>\n",
       "    <tr>\n",
       "      <th>2021-10-01</th>\n",
       "      <td>6.24352</td>\n",
       "      <td>4.6</td>\n",
       "    </tr>\n",
       "    <tr>\n",
       "      <th>2021-11-01</th>\n",
       "      <td>6.88047</td>\n",
       "      <td>4.2</td>\n",
       "    </tr>\n",
       "    <tr>\n",
       "      <th>2021-12-01</th>\n",
       "      <td>7.12341</td>\n",
       "      <td>3.9</td>\n",
       "    </tr>\n",
       "  </tbody>\n",
       "</table>\n",
       "<p>528 rows × 2 columns</p>\n",
       "</div>"
      ],
      "text/plain": [
       "            Inflation  Unemployment\n",
       "DATE                               \n",
       "1978-01-01    6.81431           6.4\n",
       "1978-02-01    6.23946           6.3\n",
       "1978-03-01    6.37584           6.3\n",
       "1978-04-01    6.50000           6.1\n",
       "1978-05-01    7.14286           6.0\n",
       "...               ...           ...\n",
       "2021-08-01    5.20248           5.2\n",
       "2021-09-01    5.37730           4.7\n",
       "2021-10-01    6.24352           4.6\n",
       "2021-11-01    6.88047           4.2\n",
       "2021-12-01    7.12341           3.9\n",
       "\n",
       "[528 rows x 2 columns]"
      ]
     },
     "execution_count": 13,
     "metadata": {},
     "output_type": "execute_result"
    }
   ],
   "source": [
    "data"
   ]
  },
  {
   "cell_type": "code",
   "execution_count": 14,
   "metadata": {},
   "outputs": [],
   "source": [
    "def pp_test(series: pd.Series) -> None:\n",
    "\n",
    "    pp = PhillipsPerron(series)\n",
    "    print(f\" \\n {series.name}\")\n",
    "    print(pp.summary().as_text())"
   ]
  },
  {
   "cell_type": "markdown",
   "metadata": {},
   "source": [
    "# Testing Stationarity with PP Test (We want P < 0.05 to reject the null hypothesis: presence of unit root)"
   ]
  },
  {
   "cell_type": "markdown",
   "metadata": {},
   "source": [
    "## Testing Main Dataframe"
   ]
  },
  {
   "cell_type": "code",
   "execution_count": 15,
   "metadata": {},
   "outputs": [
    {
     "name": "stdout",
     "output_type": "stream",
     "text": [
      " \n",
      " Inflation\n",
      "     Phillips-Perron Test (Z-tau)    \n",
      "=====================================\n",
      "Test Statistic                 -2.308\n",
      "P-value                         0.169\n",
      "Lags                               19\n",
      "-------------------------------------\n",
      "\n",
      "Trend: Constant\n",
      "Critical Values: -3.44 (1%), -2.87 (5%), -2.57 (10%)\n",
      "Null Hypothesis: The process contains a unit root.\n",
      "Alternative Hypothesis: The process is weakly stationary.\n",
      " \n",
      " Unemployment\n",
      "     Phillips-Perron Test (Z-tau)    \n",
      "=====================================\n",
      "Test Statistic                 -3.266\n",
      "P-value                         0.016\n",
      "Lags                               19\n",
      "-------------------------------------\n",
      "\n",
      "Trend: Constant\n",
      "Critical Values: -3.44 (1%), -2.87 (5%), -2.57 (10%)\n",
      "Null Hypothesis: The process contains a unit root.\n",
      "Alternative Hypothesis: The process is weakly stationary.\n"
     ]
    },
    {
     "data": {
      "text/plain": [
       "Inflation       None\n",
       "Unemployment    None\n",
       "dtype: object"
      ]
     },
     "execution_count": 15,
     "metadata": {},
     "output_type": "execute_result"
    }
   ],
   "source": [
    "# PP testing main data\n",
    "data.apply(pp_test)"
   ]
  },
  {
   "cell_type": "markdown",
   "metadata": {},
   "source": [
    "### Observation: Inflation in the Main Dataframe (all periods) is not stationary, p>0.05"
   ]
  },
  {
   "cell_type": "code",
   "execution_count": 16,
   "metadata": {
    "scrolled": true
   },
   "outputs": [
    {
     "name": "stdout",
     "output_type": "stream",
     "text": [
      " \n",
      " Inflation\n",
      "     Phillips-Perron Test (Z-tau)    \n",
      "=====================================\n",
      "Test Statistic                -13.505\n",
      "P-value                         0.000\n",
      "Lags                               19\n",
      "-------------------------------------\n",
      "\n",
      "Trend: Constant\n",
      "Critical Values: -3.44 (1%), -2.87 (5%), -2.57 (10%)\n",
      "Null Hypothesis: The process contains a unit root.\n",
      "Alternative Hypothesis: The process is weakly stationary.\n",
      " \n",
      " Unemployment\n",
      "     Phillips-Perron Test (Z-tau)    \n",
      "=====================================\n",
      "Test Statistic                -22.543\n",
      "P-value                         0.000\n",
      "Lags                               19\n",
      "-------------------------------------\n",
      "\n",
      "Trend: Constant\n",
      "Critical Values: -3.44 (1%), -2.87 (5%), -2.57 (10%)\n",
      "Null Hypothesis: The process contains a unit root.\n",
      "Alternative Hypothesis: The process is weakly stationary.\n"
     ]
    },
    {
     "data": {
      "text/plain": [
       "Inflation       None\n",
       "Unemployment    None\n",
       "dtype: object"
      ]
     },
     "execution_count": 16,
     "metadata": {},
     "output_type": "execute_result"
    }
   ],
   "source": [
    "# First differencing for main dataframe\n",
    "data.diff().dropna().apply(pp_test)"
   ]
  },
  {
   "cell_type": "markdown",
   "metadata": {},
   "source": [
    "### Observation: Dataframe with all periods becomes stationary after first differencing"
   ]
  },
  {
   "cell_type": "markdown",
   "metadata": {},
   "source": [
    "## Testing Past Dataframe"
   ]
  },
  {
   "cell_type": "code",
   "execution_count": 17,
   "metadata": {},
   "outputs": [
    {
     "name": "stdout",
     "output_type": "stream",
     "text": [
      " \n",
      " Inflation\n",
      "     Phillips-Perron Test (Z-tau)    \n",
      "=====================================\n",
      "Test Statistic                 -0.776\n",
      "P-value                         0.826\n",
      "Lags                               12\n",
      "-------------------------------------\n",
      "\n",
      "Trend: Constant\n",
      "Critical Values: -3.53 (1%), -2.90 (5%), -2.59 (10%)\n",
      "Null Hypothesis: The process contains a unit root.\n",
      "Alternative Hypothesis: The process is weakly stationary.\n",
      " \n",
      " Unemployment\n",
      "     Phillips-Perron Test (Z-tau)    \n",
      "=====================================\n",
      "Test Statistic                 -1.127\n",
      "P-value                         0.704\n",
      "Lags                               12\n",
      "-------------------------------------\n",
      "\n",
      "Trend: Constant\n",
      "Critical Values: -3.53 (1%), -2.90 (5%), -2.59 (10%)\n",
      "Null Hypothesis: The process contains a unit root.\n",
      "Alternative Hypothesis: The process is weakly stationary.\n"
     ]
    },
    {
     "data": {
      "text/plain": [
       "Inflation       None\n",
       "Unemployment    None\n",
       "dtype: object"
      ]
     },
     "execution_count": 17,
     "metadata": {},
     "output_type": "execute_result"
    }
   ],
   "source": [
    "## PP testing past data\n",
    "past_data.apply(pp_test)"
   ]
  },
  {
   "cell_type": "markdown",
   "metadata": {},
   "source": [
    "### Observation: Both Inflation and Unemployment are non-stationary (P>0.05)"
   ]
  },
  {
   "cell_type": "code",
   "execution_count": 18,
   "metadata": {},
   "outputs": [
    {
     "name": "stdout",
     "output_type": "stream",
     "text": [
      " \n",
      " Inflation\n",
      "     Phillips-Perron Test (Z-tau)    \n",
      "=====================================\n",
      "Test Statistic                 -4.937\n",
      "P-value                         0.000\n",
      "Lags                               12\n",
      "-------------------------------------\n",
      "\n",
      "Trend: Constant\n",
      "Critical Values: -3.53 (1%), -2.90 (5%), -2.59 (10%)\n",
      "Null Hypothesis: The process contains a unit root.\n",
      "Alternative Hypothesis: The process is weakly stationary.\n",
      " \n",
      " Unemployment\n",
      "     Phillips-Perron Test (Z-tau)    \n",
      "=====================================\n",
      "Test Statistic                 -7.298\n",
      "P-value                         0.000\n",
      "Lags                               12\n",
      "-------------------------------------\n",
      "\n",
      "Trend: Constant\n",
      "Critical Values: -3.53 (1%), -2.90 (5%), -2.59 (10%)\n",
      "Null Hypothesis: The process contains a unit root.\n",
      "Alternative Hypothesis: The process is weakly stationary.\n"
     ]
    },
    {
     "data": {
      "text/plain": [
       "Inflation       None\n",
       "Unemployment    None\n",
       "dtype: object"
      ]
     },
     "execution_count": 18,
     "metadata": {},
     "output_type": "execute_result"
    }
   ],
   "source": [
    "# First differencing for past dataframe\n",
    "past_data_diff = past_data.copy()\n",
    "past_data_diff.diff().dropna().apply(pp_test)"
   ]
  },
  {
   "cell_type": "markdown",
   "metadata": {},
   "source": [
    "### Observation: Both Inflation and Unemployment become stationary after first differencing (P<0.05)"
   ]
  },
  {
   "cell_type": "markdown",
   "metadata": {},
   "source": [
    "## Testing Current (Present) Data"
   ]
  },
  {
   "cell_type": "code",
   "execution_count": 19,
   "metadata": {
    "scrolled": false
   },
   "outputs": [
    {
     "name": "stdout",
     "output_type": "stream",
     "text": [
      " \n",
      " Inflation\n",
      "     Phillips-Perron Test (Z-tau)    \n",
      "=====================================\n",
      "Test Statistic                  0.440\n",
      "P-value                         0.983\n",
      "Lags                               12\n",
      "-------------------------------------\n",
      "\n",
      "Trend: Constant\n",
      "Critical Values: -3.53 (1%), -2.90 (5%), -2.59 (10%)\n",
      "Null Hypothesis: The process contains a unit root.\n",
      "Alternative Hypothesis: The process is weakly stationary.\n",
      " \n",
      " Unemployment\n",
      "     Phillips-Perron Test (Z-tau)    \n",
      "=====================================\n",
      "Test Statistic                 -2.653\n",
      "P-value                         0.083\n",
      "Lags                               12\n",
      "-------------------------------------\n",
      "\n",
      "Trend: Constant\n",
      "Critical Values: -3.53 (1%), -2.90 (5%), -2.59 (10%)\n",
      "Null Hypothesis: The process contains a unit root.\n",
      "Alternative Hypothesis: The process is weakly stationary.\n"
     ]
    },
    {
     "data": {
      "text/plain": [
       "Inflation       None\n",
       "Unemployment    None\n",
       "dtype: object"
      ]
     },
     "execution_count": 19,
     "metadata": {},
     "output_type": "execute_result"
    }
   ],
   "source": [
    "# PP testing current data\n",
    "current_data.apply(pp_test)"
   ]
  },
  {
   "cell_type": "markdown",
   "metadata": {},
   "source": [
    "### Observation: Both Inflation and Unemployment are non-stationary (P>0.05)"
   ]
  },
  {
   "cell_type": "code",
   "execution_count": 20,
   "metadata": {},
   "outputs": [
    {
     "name": "stdout",
     "output_type": "stream",
     "text": [
      " \n",
      " Inflation\n",
      "     Phillips-Perron Test (Z-tau)    \n",
      "=====================================\n",
      "Test Statistic                 -4.271\n",
      "P-value                         0.000\n",
      "Lags                               12\n",
      "-------------------------------------\n",
      "\n",
      "Trend: Constant\n",
      "Critical Values: -3.53 (1%), -2.90 (5%), -2.59 (10%)\n",
      "Null Hypothesis: The process contains a unit root.\n",
      "Alternative Hypothesis: The process is weakly stationary.\n",
      " \n",
      " Unemployment\n",
      "     Phillips-Perron Test (Z-tau)    \n",
      "=====================================\n",
      "Test Statistic                 -8.738\n",
      "P-value                         0.000\n",
      "Lags                               12\n",
      "-------------------------------------\n",
      "\n",
      "Trend: Constant\n",
      "Critical Values: -3.53 (1%), -2.90 (5%), -2.59 (10%)\n",
      "Null Hypothesis: The process contains a unit root.\n",
      "Alternative Hypothesis: The process is weakly stationary.\n"
     ]
    },
    {
     "data": {
      "text/plain": [
       "Inflation       None\n",
       "Unemployment    None\n",
       "dtype: object"
      ]
     },
     "execution_count": 20,
     "metadata": {},
     "output_type": "execute_result"
    }
   ],
   "source": [
    "# First differencing for present dataframe\n",
    "current_data_diff = current_data.copy()\n",
    "current_data_diff.diff().dropna().apply(pp_test)"
   ]
  },
  {
   "cell_type": "markdown",
   "metadata": {},
   "source": [
    "### Observation: Both Inflation and Unemployment become stationary after first differencing (P<0.05)"
   ]
  },
  {
   "cell_type": "markdown",
   "metadata": {},
   "source": [
    "# Plotting ACF and PACF"
   ]
  },
  {
   "cell_type": "code",
   "execution_count": 21,
   "metadata": {},
   "outputs": [],
   "source": [
    "from statsmodels.graphics.tsaplots import plot_acf, plot_pacf\n",
    "def acf_pacf(series):\n",
    "\n",
    "    fig, ax = plt.subplots(ncols = 2, figsize = (12, 4))\n",
    "    fig.suptitle(f\"Serial Correlation Plots for {series.name}\")\n",
    "    plot_acf(series, ax = ax[0])\n",
    "    ax[0].set_title(\"Autocorrelation Plot\")\n",
    "    plot_pacf(series, ax = ax[1])\n",
    "    ax[1].set_title(\"Partial Autocorrelation Plot\")\n",
    "    # plt.savefig(f\"figures/{series.name}_serial_correlation_plots_differenced.png\", dpi = 200)\n",
    "    plt.show()\n",
    "\n",
    "\n",
    "    "
   ]
  },
  {
   "cell_type": "code",
   "execution_count": 22,
   "metadata": {},
   "outputs": [
    {
     "name": "stderr",
     "output_type": "stream",
     "text": [
      "C:\\ProgramData\\Anaconda3\\lib\\site-packages\\statsmodels\\graphics\\tsaplots.py:353: FutureWarning: The default method 'yw' can produce PACF values outside of the [-1,1] interval. After 0.13, the default will change tounadjusted Yule-Walker ('ywm'). You can use this method now by setting method='ywm'.\n",
      "  FutureWarning,\n"
     ]
    },
    {
     "data": {
      "image/png": "[encoded data removed]",
      "text/plain": [
       "<Figure size 864x288 with 2 Axes>"
      ]
     },
     "metadata": {},
     "output_type": "display_data"
    },
    {
     "name": "stderr",
     "output_type": "stream",
     "text": [
      "C:\\ProgramData\\Anaconda3\\lib\\site-packages\\statsmodels\\graphics\\tsaplots.py:353: FutureWarning: The default method 'yw' can produce PACF values outside of the [-1,1] interval. After 0.13, the default will change tounadjusted Yule-Walker ('ywm'). You can use this method now by setting method='ywm'.\n",
      "  FutureWarning,\n"
     ]
    },
    {
     "data": {
      "image/png": "[encoded data removed]",
      "text/plain": [
       "<Figure size 864x288 with 2 Axes>"
      ]
     },
     "metadata": {},
     "output_type": "display_data"
    },
    {
     "data": {
      "text/plain": [
       "Inflation       None\n",
       "Unemployment    None\n",
       "dtype: object"
      ]
     },
     "execution_count": 22,
     "metadata": {},
     "output_type": "execute_result"
    }
   ],
   "source": [
    "data.apply(acf_pacf)"
   ]
  },
  {
   "cell_type": "code",
   "execution_count": 23,
   "metadata": {},
   "outputs": [
    {
     "name": "stderr",
     "output_type": "stream",
     "text": [
      "C:\\ProgramData\\Anaconda3\\lib\\site-packages\\statsmodels\\graphics\\tsaplots.py:353: FutureWarning: The default method 'yw' can produce PACF values outside of the [-1,1] interval. After 0.13, the default will change tounadjusted Yule-Walker ('ywm'). You can use this method now by setting method='ywm'.\n",
      "  FutureWarning,\n"
     ]
    },
    {
     "data": {
      "image/png": "[encoded data removed]",
      "text/plain": [
       "<Figure size 864x288 with 2 Axes>"
      ]
     },
     "metadata": {},
     "output_type": "display_data"
    },
    {
     "name": "stderr",
     "output_type": "stream",
     "text": [
      "C:\\ProgramData\\Anaconda3\\lib\\site-packages\\statsmodels\\graphics\\tsaplots.py:353: FutureWarning: The default method 'yw' can produce PACF values outside of the [-1,1] interval. After 0.13, the default will change tounadjusted Yule-Walker ('ywm'). You can use this method now by setting method='ywm'.\n",
      "  FutureWarning,\n"
     ]
    },
    {
     "data": {
      "image/png": "[encoded data removed]",
      "text/plain": [
       "<Figure size 864x288 with 2 Axes>"
      ]
     },
     "metadata": {},
     "output_type": "display_data"
    },
    {
     "data": {
      "text/plain": [
       "Inflation       None\n",
       "Unemployment    None\n",
       "dtype: object"
      ]
     },
     "execution_count": 23,
     "metadata": {},
     "output_type": "execute_result"
    }
   ],
   "source": [
    "data.diff().dropna().apply(acf_pacf)"
   ]
  },
  {
   "cell_type": "code",
   "execution_count": 24,
   "metadata": {},
   "outputs": [],
   "source": [
    "def plot_philips(data, name = ''):\n",
    "\n",
    "  dates = [x.timestamp() for x in data.index]\n",
    "  plt.figure(figsize=(10, 8))\n",
    "  plt.grid(True)\n",
    "  plt.scatter(data['Unemployment'].values, data['Inflation'].values,\n",
    "              c=dates, cmap='coolwarm', s=110, alpha=0.8)\n",
    "  _ = plt.ylabel('Inflation Rate')\n",
    "  _ = plt.xlabel('Unemployment Rate')\n",
    "  plt.title('Scatterplot of Inflation against Unemployment')\n",
    "  cbar = plt.colorbar()\n",
    "  cbar.set_label('Date')\n",
    "  plt.savefig(f\"figures/philips_curve_plot_{name}.png\", dpi = 200)\n",
    "  plt.show()\n"
   ]
  },
  {
   "cell_type": "markdown",
   "metadata": {},
   "source": [
    "# Scatterplot of Inflation against Unemployment (Long Run)"
   ]
  },
  {
   "cell_type": "code",
   "execution_count": 25,
   "metadata": {},
   "outputs": [
    {
     "name": "stderr",
     "output_type": "stream",
     "text": [
      "C:\\ProgramData\\Anaconda3\\lib\\site-packages\\ipykernel_launcher.py:11: MatplotlibDeprecationWarning: Auto-removal of grids by pcolor() and pcolormesh() is deprecated since 3.5 and will be removed two minor releases later; please call grid(False) first.\n",
      "  # This is added back by InteractiveShellApp.init_path()\n"
     ]
    },
    {
     "data": {
      "image/png": "[encoded data removed]",
      "text/plain": [
       "<Figure size 720x576 with 2 Axes>"
      ]
     },
     "metadata": {},
     "output_type": "display_data"
    }
   ],
   "source": [
    "plot_philips(data, \"full_period\")"
   ]
  },
  {
   "cell_type": "markdown",
   "metadata": {},
   "source": [
    "# Scatterplot of Inflation against Unemployment (Short Run, Past Period)"
   ]
  },
  {
   "cell_type": "code",
   "execution_count": 26,
   "metadata": {},
   "outputs": [
    {
     "name": "stderr",
     "output_type": "stream",
     "text": [
      "C:\\ProgramData\\Anaconda3\\lib\\site-packages\\ipykernel_launcher.py:11: MatplotlibDeprecationWarning: Auto-removal of grids by pcolor() and pcolormesh() is deprecated since 3.5 and will be removed two minor releases later; please call grid(False) first.\n",
      "  # This is added back by InteractiveShellApp.init_path()\n"
     ]
    },
    {
     "data": {
      "image/png": "[encoded data removed]",
      "text/plain": [
       "<Figure size 720x576 with 2 Axes>"
      ]
     },
     "metadata": {},
     "output_type": "display_data"
    }
   ],
   "source": [
    "plot_philips(past_data, \"past_period\")\n"
   ]
  },
  {
   "cell_type": "markdown",
   "metadata": {},
   "source": [
    "# Scatterplot of Inflation against Unemployment (Short Run, Present Period)"
   ]
  },
  {
   "cell_type": "code",
   "execution_count": 27,
   "metadata": {},
   "outputs": [
    {
     "name": "stderr",
     "output_type": "stream",
     "text": [
      "C:\\ProgramData\\Anaconda3\\lib\\site-packages\\ipykernel_launcher.py:11: MatplotlibDeprecationWarning: Auto-removal of grids by pcolor() and pcolormesh() is deprecated since 3.5 and will be removed two minor releases later; please call grid(False) first.\n",
      "  # This is added back by InteractiveShellApp.init_path()\n"
     ]
    },
    {
     "data": {
      "image/png": "[encoded data removed]",
      "text/plain": [
       "<Figure size 720x576 with 2 Axes>"
      ]
     },
     "metadata": {},
     "output_type": "display_data"
    }
   ],
   "source": [
    "plot_philips(current_data, \"present_period\")"
   ]
  },
  {
   "cell_type": "markdown",
   "metadata": {},
   "source": [
    "# Performing Cointegration Tests\n",
    "- Null hypothesis: There is no cointegration"
   ]
  },
  {
   "cell_type": "code",
   "execution_count": 28,
   "metadata": {},
   "outputs": [],
   "source": [
    "from statsmodels.tsa.stattools import coint as cointtest"
   ]
  },
  {
   "cell_type": "markdown",
   "metadata": {},
   "source": [
    "## Testing all time periods"
   ]
  },
  {
   "cell_type": "code",
   "execution_count": 29,
   "metadata": {},
   "outputs": [
    {
     "data": {
      "text/plain": [
       "(-3.047569519593225,\n",
       " 0.09932647135765599,\n",
       " array([-3.91734231, -3.34774868, -3.05250761]))"
      ]
     },
     "execution_count": 29,
     "metadata": {},
     "output_type": "execute_result"
    }
   ],
   "source": [
    "cointtest(data.iloc[:, 0], data.iloc[:, 1])"
   ]
  },
  {
   "cell_type": "markdown",
   "metadata": {},
   "source": [
    "### Observation: Unemployment and Inflation are not cointegrated across all time periods (P>0.05)"
   ]
  },
  {
   "cell_type": "markdown",
   "metadata": {},
   "source": [
    "## Testing past time periods"
   ]
  },
  {
   "cell_type": "code",
   "execution_count": 30,
   "metadata": {},
   "outputs": [
    {
     "data": {
      "text/plain": [
       "(-1.8800763685356214,\n",
       " 0.5900766761798688,\n",
       " array([-4.05734298, -3.42354125, -3.10472479]))"
      ]
     },
     "execution_count": 30,
     "metadata": {},
     "output_type": "execute_result"
    }
   ],
   "source": [
    "cointtest(past_data.iloc[:, 0], past_data.iloc[:, 1])"
   ]
  },
  {
   "cell_type": "markdown",
   "metadata": {},
   "source": [
    "### Observation: Unemployment and Inflation are not cointegrated across past time periods (P>0.05)"
   ]
  },
  {
   "cell_type": "markdown",
   "metadata": {},
   "source": [
    "## Testing current time periods"
   ]
  },
  {
   "cell_type": "code",
   "execution_count": 31,
   "metadata": {
    "scrolled": true
   },
   "outputs": [
    {
     "data": {
      "text/plain": [
       "(-0.08113883505311822,\n",
       " 0.9838269645508344,\n",
       " array([-4.05734298, -3.42354125, -3.10472479]))"
      ]
     },
     "execution_count": 31,
     "metadata": {},
     "output_type": "execute_result"
    }
   ],
   "source": [
    "cointtest(current_data.iloc[:, 0], current_data.iloc[:, 1])"
   ]
  },
  {
   "cell_type": "markdown",
   "metadata": {},
   "source": [
    "### Observation: Unemployment and Inflation are not cointegrated across current time periods (P>0.05)"
   ]
  },
  {
   "cell_type": "code",
   "execution_count": 32,
   "metadata": {},
   "outputs": [
    {
     "data": {
      "image/png": "[encoded data removed]",
      "text/plain": [
       "<Figure size 720x576 with 1 Axes>"
      ]
     },
     "metadata": {},
     "output_type": "display_data"
    }
   ],
   "source": [
    "data.plot(kind='hist', figsize = (10, 8), alpha=0.8, bins=30)\n",
    "plt.savefig(\"figures/histogram_of_vars_all_data.png\", dpi = 200)"
   ]
  },
  {
   "cell_type": "code",
   "execution_count": 33,
   "metadata": {},
   "outputs": [
    {
     "name": "stderr",
     "output_type": "stream",
     "text": [
      "C:\\ProgramData\\Anaconda3\\lib\\site-packages\\ipykernel_launcher.py:3: SettingWithCopyWarning: \n",
      "A value is trying to be set on a copy of a slice from a DataFrame.\n",
      "Try using .loc[row_indexer,col_indexer] = value instead\n",
      "\n",
      "See the caveats in the documentation: https://pandas.pydata.org/pandas-docs/stable/user_guide/indexing.html#returning-a-view-versus-a-copy\n",
      "  This is separate from the ipykernel package so we can avoid doing imports until\n",
      "C:\\ProgramData\\Anaconda3\\lib\\site-packages\\ipykernel_launcher.py:4: SettingWithCopyWarning: \n",
      "A value is trying to be set on a copy of a slice from a DataFrame.\n",
      "Try using .loc[row_indexer,col_indexer] = value instead\n",
      "\n",
      "See the caveats in the documentation: https://pandas.pydata.org/pandas-docs/stable/user_guide/indexing.html#returning-a-view-versus-a-copy\n",
      "  after removing the cwd from sys.path.\n"
     ]
    }
   ],
   "source": [
    "import seaborn as sns\n",
    "\n",
    "past_data['Time Period'] = 'Past'\n",
    "current_data['Time Period'] = 'Present'\n",
    "grouped_data = pd.concat([past_data, current_data], axis=0)\n",
    "grouped_data['Time Period'] = grouped_data['Time Period'].astype('category')"
   ]
  },
  {
   "cell_type": "code",
   "execution_count": 34,
   "metadata": {},
   "outputs": [
    {
     "data": {
      "image/png": "[encoded data removed]",
      "text/plain": [
       "<Figure size 864x576 with 2 Axes>"
      ]
     },
     "metadata": {},
     "output_type": "display_data"
    }
   ],
   "source": [
    "fig, ax = plt.subplots(ncols = 2, figsize = (12, 8))\n",
    "\n",
    "sns.boxplot(data = grouped_data, y='Unemployment', x = 'Time Period', ax=ax[0])\n",
    "sns.boxplot(data = grouped_data, y='Inflation', x = 'Time Period', ax=ax[1])\n",
    "plt.savefig(\"figures/Distribution_of_variables_across_time.png\", dpi = 200)\n",
    "plt.show()"
   ]
  },
  {
   "cell_type": "code",
   "execution_count": null,
   "metadata": {},
   "outputs": [],
   "source": []
  },
  {
   "cell_type": "code",
   "execution_count": 35,
   "metadata": {},
   "outputs": [],
   "source": [
    "def regresssion(timeseries: pd.DataFrame, endog_col: str = ''):\n",
    "\n",
    "    endog = timeseries[[endog_col]]\n",
    "    exog = timeseries[timeseries.columns.difference([endog_col])]\n",
    "\n",
    "    exog = sm.add_constant(exog)\n",
    "\n",
    "    result = sm.OLS(endog=endog, exog=exog).fit()\n",
    "    print(result.summary())\n",
    "\n",
    "    return result"
   ]
  },
  {
   "cell_type": "code",
   "execution_count": 36,
   "metadata": {},
   "outputs": [
    {
     "name": "stdout",
     "output_type": "stream",
     "text": [
      "                            OLS Regression Results                            \n",
      "==============================================================================\n",
      "Dep. Variable:              Inflation   R-squared:                       0.036\n",
      "Model:                            OLS   Adj. R-squared:                  0.034\n",
      "Method:                 Least Squares   F-statistic:                     19.76\n",
      "Date:                Sun, 20 Feb 2022   Prob (F-statistic):           1.07e-05\n",
      "Time:                        17:10:50   Log-Likelihood:                -256.66\n",
      "No. Observations:                 527   AIC:                             517.3\n",
      "Df Residuals:                     525   BIC:                             525.9\n",
      "Df Model:                           1                                         \n",
      "Covariance Type:            nonrobust                                         \n",
      "================================================================================\n",
      "                   coef    std err          t      P>|t|      [0.025      0.975]\n",
      "--------------------------------------------------------------------------------\n",
      "const           -0.0001      0.017     -0.008      0.994      -0.034       0.034\n",
      "Unemployment    -0.1513      0.034     -4.446      0.000      -0.218      -0.084\n",
      "==============================================================================\n",
      "Omnibus:                       89.008   Durbin-Watson:                   1.129\n",
      "Prob(Omnibus):                  0.000   Jarque-Bera (JB):              838.947\n",
      "Skew:                          -0.387   Prob(JB):                    6.68e-183\n",
      "Kurtosis:                       9.133   Cond. No.                         1.98\n",
      "==============================================================================\n",
      "\n",
      "Notes:\n",
      "[1] Standard Errors assume that the covariance matrix of the errors is correctly specified.\n"
     ]
    }
   ],
   "source": [
    "all_result = regresssion(data[['Inflation', 'Unemployment']].diff().dropna(), endog_col='Inflation')"
   ]
  },
  {
   "cell_type": "code",
   "execution_count": 37,
   "metadata": {},
   "outputs": [
    {
     "name": "stdout",
     "output_type": "stream",
     "text": [
      "                            OLS Regression Results                            \n",
      "==============================================================================\n",
      "Dep. Variable:              Inflation   R-squared:                       0.072\n",
      "Model:                            OLS   Adj. R-squared:                  0.058\n",
      "Method:                 Least Squares   F-statistic:                     5.315\n",
      "Date:                Sun, 20 Feb 2022   Prob (F-statistic):             0.0242\n",
      "Time:                        17:10:51   Log-Likelihood:                -44.677\n",
      "No. Observations:                  71   AIC:                             93.35\n",
      "Df Residuals:                      69   BIC:                             97.88\n",
      "Df Model:                           1                                         \n",
      "Covariance Type:            nonrobust                                         \n",
      "================================================================================\n",
      "                   coef    std err          t      P>|t|      [0.025      0.975]\n",
      "--------------------------------------------------------------------------------\n",
      "const           -0.0282      0.055     -0.512      0.610      -0.138       0.082\n",
      "Unemployment    -0.5405      0.234     -2.305      0.024      -1.008      -0.073\n",
      "==============================================================================\n",
      "Omnibus:                        5.074   Durbin-Watson:                   0.889\n",
      "Prob(Omnibus):                  0.079   Jarque-Bera (JB):                2.549\n",
      "Skew:                          -0.188   Prob(JB):                        0.280\n",
      "Kurtosis:                       2.151   Cond. No.                         4.29\n",
      "==============================================================================\n",
      "\n",
      "Notes:\n",
      "[1] Standard Errors assume that the covariance matrix of the errors is correctly specified.\n"
     ]
    }
   ],
   "source": [
    "past_result = regresssion(past_data[['Inflation', 'Unemployment']].diff().dropna(), endog_col='Inflation')"
   ]
  },
  {
   "cell_type": "code",
   "execution_count": 38,
   "metadata": {},
   "outputs": [
    {
     "name": "stdout",
     "output_type": "stream",
     "text": [
      "                            OLS Regression Results                            \n",
      "==============================================================================\n",
      "Dep. Variable:              Inflation   R-squared:                       0.184\n",
      "Model:                            OLS   Adj. R-squared:                  0.172\n",
      "Method:                 Least Squares   F-statistic:                     15.52\n",
      "Date:                Sun, 20 Feb 2022   Prob (F-statistic):           0.000193\n",
      "Time:                        17:10:51   Log-Likelihood:                -24.385\n",
      "No. Observations:                  71   AIC:                             52.77\n",
      "Df Residuals:                      69   BIC:                             57.29\n",
      "Df Model:                           1                                         \n",
      "Covariance Type:            nonrobust                                         \n",
      "================================================================================\n",
      "                   coef    std err          t      P>|t|      [0.025      0.975]\n",
      "--------------------------------------------------------------------------------\n",
      "const            0.0813      0.041      1.980      0.052      -0.001       0.163\n",
      "Unemployment    -0.1240      0.031     -3.940      0.000      -0.187      -0.061\n",
      "==============================================================================\n",
      "Omnibus:                       25.157   Durbin-Watson:                   1.001\n",
      "Prob(Omnibus):                  0.000   Jarque-Bera (JB):               52.171\n",
      "Skew:                           1.181   Prob(JB):                     4.69e-12\n",
      "Kurtosis:                       6.472   Cond. No.                         1.30\n",
      "==============================================================================\n",
      "\n",
      "Notes:\n",
      "[1] Standard Errors assume that the covariance matrix of the errors is correctly specified.\n"
     ]
    }
   ],
   "source": [
    "current_result = regresssion(current_data[['Inflation', 'Unemployment']].diff().dropna(), endog_col='Inflation')"
   ]
  },
  {
   "cell_type": "code",
   "execution_count": 39,
   "metadata": {},
   "outputs": [
    {
     "data": {
      "text/plain": [
       "<class 'statsmodels.stats.contrast.ContrastResults'>\n",
       "<Wald test (chi2): statistic=8.528836139824492, p-value=0.014060046717062064, df_denom=2>"
      ]
     },
     "execution_count": 39,
     "metadata": {},
     "output_type": "execute_result"
    }
   ],
   "source": [
    "# Test white noise of residuals and normality\n",
    "# Test for serial correlation\n",
    "# Test for difference in the two estimates of Betas\n",
    "\n",
    "from statsmodels.stats.diagnostic import linear_reset as RESET \n",
    "\n",
    "RESET(all_result, power=3, test_type='exog', use_f=False, cov_type='nonrobust', cov_kwargs=None)"
   ]
  },
  {
   "cell_type": "code",
   "execution_count": 40,
   "metadata": {},
   "outputs": [
    {
     "data": {
      "text/plain": [
       "<class 'statsmodels.stats.contrast.ContrastResults'>\n",
       "<Wald test (chi2): statistic=2.3835368378957096, p-value=0.30368374883512944, df_denom=2>"
      ]
     },
     "execution_count": 40,
     "metadata": {},
     "output_type": "execute_result"
    }
   ],
   "source": [
    "RESET(past_result, power=3, test_type='exog', use_f=False, cov_type='nonrobust', cov_kwargs=None)"
   ]
  },
  {
   "cell_type": "code",
   "execution_count": 41,
   "metadata": {},
   "outputs": [
    {
     "data": {
      "text/plain": [
       "<class 'statsmodels.stats.contrast.ContrastResults'>\n",
       "<Wald test (chi2): statistic=1.2812896447785824, p-value=0.5269525236817809, df_denom=2>"
      ]
     },
     "execution_count": 41,
     "metadata": {},
     "output_type": "execute_result"
    }
   ],
   "source": [
    "RESET(current_result, power=3, test_type='exog', use_f=False, cov_type='nonrobust', cov_kwargs=None)"
   ]
  },
  {
   "cell_type": "code",
   "execution_count": 42,
   "metadata": {},
   "outputs": [
    {
     "name": "stdout",
     "output_type": "stream",
     "text": [
      "\n",
      "--------------------\n",
      "KstestResult(statistic=0.24203707979865696, pvalue=1.162071958519982e-27)\n",
      "\n",
      "--------------------\n",
      "KstestResult(statistic=0.2116056808809056, pvalue=0.0028729241955663953)\n",
      "\n",
      "--------------------\n",
      "KstestResult(statistic=0.2967576698861613, pvalue=4.8774580801941e-06)\n"
     ]
    }
   ],
   "source": [
    "from scipy.stats import kstest, ks_2samp\n",
    "# Null is same dist\n",
    "# Alternate is different dist\n",
    "for result in [all_result, past_result, current_result]:\n",
    "    print(\"\\n--------------------\")\n",
    "    print(kstest(result.resid, 'norm'))"
   ]
  },
  {
   "cell_type": "code",
   "execution_count": 43,
   "metadata": {},
   "outputs": [
    {
     "name": "stdout",
     "output_type": "stream",
     "text": [
      "\n",
      " Inflation--------------------\n",
      "KstestResult(statistic=0.8055555555555556, pvalue=1.3302101247891915e-23)\n",
      "\n",
      " Unemployment--------------------\n",
      "KstestResult(statistic=0.7916666666666666, pvalue=1.1528487748172994e-22)\n"
     ]
    }
   ],
   "source": [
    "for indicator in data.columns:\n",
    "    print(f\"\\n {indicator}--------------------\")\n",
    "    print(ks_2samp(past_data[indicator], current_data[indicator]))"
   ]
  },
  {
   "cell_type": "code",
   "execution_count": 44,
   "metadata": {},
   "outputs": [
    {
     "data": {
      "image/png": "[encoded data removed]",
      "text/plain": [
       "<Figure size 576x396 with 1 Axes>"
      ]
     },
     "metadata": {},
     "output_type": "display_data"
    }
   ],
   "source": [
    "from statsmodels.graphics.gofplots import qqplot\n",
    "\n",
    "qqplot(all_result.resid, loc=all_result.resid.mean(), scale=all_result.resid.std(), line='45')\n",
    "plt.savefig(\"figures/qqplots_all_data.png\")"
   ]
  },
  {
   "cell_type": "code",
   "execution_count": 45,
   "metadata": {},
   "outputs": [
    {
     "data": {
      "image/png": "[encoded data removed]",
      "text/plain": [
       "<Figure size 576x396 with 1 Axes>"
      ]
     },
     "metadata": {},
     "output_type": "display_data"
    }
   ],
   "source": [
    "qqplot(past_result.resid, loc=past_result.resid.mean(), scale=past_result.resid.std(), line='45')\n",
    "plt.savefig(\"figures/qqplots_past_data.png\")"
   ]
  },
  {
   "cell_type": "code",
   "execution_count": 46,
   "metadata": {},
   "outputs": [
    {
     "data": {
      "image/png": "[encoded data removed]",
      "text/plain": [
       "<Figure size 576x396 with 1 Axes>"
      ]
     },
     "metadata": {},
     "output_type": "display_data"
    }
   ],
   "source": [
    "qqplot(current_result.resid, loc=current_result.resid.mean(), scale=current_result.resid.std(), line='45')\n",
    "plt.savefig(\"figures/qqplots_current_data.png\")"
   ]
  },
  {
   "cell_type": "code",
   "execution_count": 47,
   "metadata": {},
   "outputs": [
    {
     "name": "stdout",
     "output_type": "stream",
     "text": [
      "\n",
      "--------------------\n",
      "(3.683503402812247, 0.15853946891836632, 1.8441572123411667, 0.15918357056161686)\n",
      "\n",
      "--------------------\n",
      "(0.7507716369170571, 0.687024161047814, 0.363366776404256, 0.6966732287562246)\n",
      "\n",
      "--------------------\n",
      "(0.8927538687317139, 0.6399425102702799, 0.4329599750651205, 0.6503617873954151)\n"
     ]
    }
   ],
   "source": [
    "from statsmodels.stats.diagnostic import het_white\n",
    "# Null is homo\n",
    "# Alternate is Hetero\n",
    "for result in [all_result, past_result, current_result]:\n",
    "    print(\"\\n--------------------\")\n",
    "    print(het_white(result.resid, result.model.exog))\n"
   ]
  },
  {
   "cell_type": "code",
   "execution_count": 48,
   "metadata": {},
   "outputs": [
    {
     "data": {
      "text/plain": [
       "0.39417034374803156"
      ]
     },
     "execution_count": 48,
     "metadata": {},
     "output_type": "execute_result"
    }
   ],
   "source": [
    "all_result.resid.std()"
   ]
  },
  {
   "cell_type": "code",
   "execution_count": null,
   "metadata": {},
   "outputs": [],
   "source": []
  },
  {
   "cell_type": "code",
   "execution_count": null,
   "metadata": {},
   "outputs": [],
   "source": []
  },
  {
   "cell_type": "markdown",
   "metadata": {},
   "source": [
    "# Running Granger Causality Test\n",
    "- Stationarity is a pre-requisite in using the Granger Causality test\n",
    "- https://rishi-a.github.io/2020/05/25/granger-causality.html\n",
    "- Null hypothesis: There is no Granger Causality"
   ]
  },
  {
   "cell_type": "code",
   "execution_count": 72,
   "metadata": {
    "scrolled": true
   },
   "outputs": [
    {
     "ename": "KeyError",
     "evalue": "\"['Time Period'] not found in axis\"",
     "output_type": "error",
     "traceback": [
      "\u001b[1;31m---------------------------------------------------------------------------\u001b[0m",
      "\u001b[1;31mKeyError\u001b[0m                                  Traceback (most recent call last)",
      "\u001b[1;32m~\\AppData\\Local\\Temp/ipykernel_4576/3864127066.py\u001b[0m in \u001b[0;36m<module>\u001b[1;34m\u001b[0m\n\u001b[0;32m      1\u001b[0m \u001b[1;31m# Dropping text columns\u001b[0m\u001b[1;33m\u001b[0m\u001b[1;33m\u001b[0m\u001b[1;33m\u001b[0m\u001b[0m\n\u001b[0;32m      2\u001b[0m \u001b[1;33m\u001b[0m\u001b[0m\n\u001b[1;32m----> 3\u001b[1;33m \u001b[0mpast_data\u001b[0m\u001b[1;33m.\u001b[0m\u001b[0mdrop\u001b[0m\u001b[1;33m(\u001b[0m\u001b[0mcolumns\u001b[0m \u001b[1;33m=\u001b[0m \u001b[1;34m\"Time Period\"\u001b[0m\u001b[1;33m,\u001b[0m \u001b[0minplace\u001b[0m \u001b[1;33m=\u001b[0m \u001b[1;32mTrue\u001b[0m\u001b[1;33m)\u001b[0m\u001b[1;33m\u001b[0m\u001b[1;33m\u001b[0m\u001b[0m\n\u001b[0m\u001b[0;32m      4\u001b[0m \u001b[0mcurrent_data\u001b[0m\u001b[1;33m.\u001b[0m\u001b[0mdrop\u001b[0m\u001b[1;33m(\u001b[0m\u001b[0mcolumns\u001b[0m \u001b[1;33m=\u001b[0m \u001b[1;34m\"Time Period\"\u001b[0m\u001b[1;33m,\u001b[0m \u001b[0minplace\u001b[0m \u001b[1;33m=\u001b[0m \u001b[1;32mTrue\u001b[0m\u001b[1;33m)\u001b[0m\u001b[1;33m\u001b[0m\u001b[1;33m\u001b[0m\u001b[0m\n",
      "\u001b[1;32mC:\\ProgramData\\Anaconda3\\lib\\site-packages\\pandas\\util\\_decorators.py\u001b[0m in \u001b[0;36mwrapper\u001b[1;34m(*args, **kwargs)\u001b[0m\n\u001b[0;32m    309\u001b[0m                     \u001b[0mstacklevel\u001b[0m\u001b[1;33m=\u001b[0m\u001b[0mstacklevel\u001b[0m\u001b[1;33m,\u001b[0m\u001b[1;33m\u001b[0m\u001b[1;33m\u001b[0m\u001b[0m\n\u001b[0;32m    310\u001b[0m                 )\n\u001b[1;32m--> 311\u001b[1;33m             \u001b[1;32mreturn\u001b[0m \u001b[0mfunc\u001b[0m\u001b[1;33m(\u001b[0m\u001b[1;33m*\u001b[0m\u001b[0margs\u001b[0m\u001b[1;33m,\u001b[0m \u001b[1;33m**\u001b[0m\u001b[0mkwargs\u001b[0m\u001b[1;33m)\u001b[0m\u001b[1;33m\u001b[0m\u001b[1;33m\u001b[0m\u001b[0m\n\u001b[0m\u001b[0;32m    312\u001b[0m \u001b[1;33m\u001b[0m\u001b[0m\n\u001b[0;32m    313\u001b[0m         \u001b[1;32mreturn\u001b[0m \u001b[0mwrapper\u001b[0m\u001b[1;33m\u001b[0m\u001b[1;33m\u001b[0m\u001b[0m\n",
      "\u001b[1;32mC:\\ProgramData\\Anaconda3\\lib\\site-packages\\pandas\\core\\frame.py\u001b[0m in \u001b[0;36mdrop\u001b[1;34m(self, labels, axis, index, columns, level, inplace, errors)\u001b[0m\n\u001b[0;32m   4911\u001b[0m             \u001b[0mlevel\u001b[0m\u001b[1;33m=\u001b[0m\u001b[0mlevel\u001b[0m\u001b[1;33m,\u001b[0m\u001b[1;33m\u001b[0m\u001b[1;33m\u001b[0m\u001b[0m\n\u001b[0;32m   4912\u001b[0m             \u001b[0minplace\u001b[0m\u001b[1;33m=\u001b[0m\u001b[0minplace\u001b[0m\u001b[1;33m,\u001b[0m\u001b[1;33m\u001b[0m\u001b[1;33m\u001b[0m\u001b[0m\n\u001b[1;32m-> 4913\u001b[1;33m             \u001b[0merrors\u001b[0m\u001b[1;33m=\u001b[0m\u001b[0merrors\u001b[0m\u001b[1;33m,\u001b[0m\u001b[1;33m\u001b[0m\u001b[1;33m\u001b[0m\u001b[0m\n\u001b[0m\u001b[0;32m   4914\u001b[0m         )\n\u001b[0;32m   4915\u001b[0m \u001b[1;33m\u001b[0m\u001b[0m\n",
      "\u001b[1;32mC:\\ProgramData\\Anaconda3\\lib\\site-packages\\pandas\\core\\generic.py\u001b[0m in \u001b[0;36mdrop\u001b[1;34m(self, labels, axis, index, columns, level, inplace, errors)\u001b[0m\n\u001b[0;32m   4148\u001b[0m         \u001b[1;32mfor\u001b[0m \u001b[0maxis\u001b[0m\u001b[1;33m,\u001b[0m \u001b[0mlabels\u001b[0m \u001b[1;32min\u001b[0m \u001b[0maxes\u001b[0m\u001b[1;33m.\u001b[0m\u001b[0mitems\u001b[0m\u001b[1;33m(\u001b[0m\u001b[1;33m)\u001b[0m\u001b[1;33m:\u001b[0m\u001b[1;33m\u001b[0m\u001b[1;33m\u001b[0m\u001b[0m\n\u001b[0;32m   4149\u001b[0m             \u001b[1;32mif\u001b[0m \u001b[0mlabels\u001b[0m \u001b[1;32mis\u001b[0m \u001b[1;32mnot\u001b[0m \u001b[1;32mNone\u001b[0m\u001b[1;33m:\u001b[0m\u001b[1;33m\u001b[0m\u001b[1;33m\u001b[0m\u001b[0m\n\u001b[1;32m-> 4150\u001b[1;33m                 \u001b[0mobj\u001b[0m \u001b[1;33m=\u001b[0m \u001b[0mobj\u001b[0m\u001b[1;33m.\u001b[0m\u001b[0m_drop_axis\u001b[0m\u001b[1;33m(\u001b[0m\u001b[0mlabels\u001b[0m\u001b[1;33m,\u001b[0m \u001b[0maxis\u001b[0m\u001b[1;33m,\u001b[0m \u001b[0mlevel\u001b[0m\u001b[1;33m=\u001b[0m\u001b[0mlevel\u001b[0m\u001b[1;33m,\u001b[0m \u001b[0merrors\u001b[0m\u001b[1;33m=\u001b[0m\u001b[0merrors\u001b[0m\u001b[1;33m)\u001b[0m\u001b[1;33m\u001b[0m\u001b[1;33m\u001b[0m\u001b[0m\n\u001b[0m\u001b[0;32m   4151\u001b[0m \u001b[1;33m\u001b[0m\u001b[0m\n\u001b[0;32m   4152\u001b[0m         \u001b[1;32mif\u001b[0m \u001b[0minplace\u001b[0m\u001b[1;33m:\u001b[0m\u001b[1;33m\u001b[0m\u001b[1;33m\u001b[0m\u001b[0m\n",
      "\u001b[1;32mC:\\ProgramData\\Anaconda3\\lib\\site-packages\\pandas\\core\\generic.py\u001b[0m in \u001b[0;36m_drop_axis\u001b[1;34m(self, labels, axis, level, errors)\u001b[0m\n\u001b[0;32m   4183\u001b[0m                 \u001b[0mnew_axis\u001b[0m \u001b[1;33m=\u001b[0m \u001b[0maxis\u001b[0m\u001b[1;33m.\u001b[0m\u001b[0mdrop\u001b[0m\u001b[1;33m(\u001b[0m\u001b[0mlabels\u001b[0m\u001b[1;33m,\u001b[0m \u001b[0mlevel\u001b[0m\u001b[1;33m=\u001b[0m\u001b[0mlevel\u001b[0m\u001b[1;33m,\u001b[0m \u001b[0merrors\u001b[0m\u001b[1;33m=\u001b[0m\u001b[0merrors\u001b[0m\u001b[1;33m)\u001b[0m\u001b[1;33m\u001b[0m\u001b[1;33m\u001b[0m\u001b[0m\n\u001b[0;32m   4184\u001b[0m             \u001b[1;32melse\u001b[0m\u001b[1;33m:\u001b[0m\u001b[1;33m\u001b[0m\u001b[1;33m\u001b[0m\u001b[0m\n\u001b[1;32m-> 4185\u001b[1;33m                 \u001b[0mnew_axis\u001b[0m \u001b[1;33m=\u001b[0m \u001b[0maxis\u001b[0m\u001b[1;33m.\u001b[0m\u001b[0mdrop\u001b[0m\u001b[1;33m(\u001b[0m\u001b[0mlabels\u001b[0m\u001b[1;33m,\u001b[0m \u001b[0merrors\u001b[0m\u001b[1;33m=\u001b[0m\u001b[0merrors\u001b[0m\u001b[1;33m)\u001b[0m\u001b[1;33m\u001b[0m\u001b[1;33m\u001b[0m\u001b[0m\n\u001b[0m\u001b[0;32m   4186\u001b[0m             \u001b[0mresult\u001b[0m \u001b[1;33m=\u001b[0m \u001b[0mself\u001b[0m\u001b[1;33m.\u001b[0m\u001b[0mreindex\u001b[0m\u001b[1;33m(\u001b[0m\u001b[1;33m**\u001b[0m\u001b[1;33m{\u001b[0m\u001b[0maxis_name\u001b[0m\u001b[1;33m:\u001b[0m \u001b[0mnew_axis\u001b[0m\u001b[1;33m}\u001b[0m\u001b[1;33m)\u001b[0m\u001b[1;33m\u001b[0m\u001b[1;33m\u001b[0m\u001b[0m\n\u001b[0;32m   4187\u001b[0m \u001b[1;33m\u001b[0m\u001b[0m\n",
      "\u001b[1;32mC:\\ProgramData\\Anaconda3\\lib\\site-packages\\pandas\\core\\indexes\\base.py\u001b[0m in \u001b[0;36mdrop\u001b[1;34m(self, labels, errors)\u001b[0m\n\u001b[0;32m   6015\u001b[0m         \u001b[1;32mif\u001b[0m \u001b[0mmask\u001b[0m\u001b[1;33m.\u001b[0m\u001b[0many\u001b[0m\u001b[1;33m(\u001b[0m\u001b[1;33m)\u001b[0m\u001b[1;33m:\u001b[0m\u001b[1;33m\u001b[0m\u001b[1;33m\u001b[0m\u001b[0m\n\u001b[0;32m   6016\u001b[0m             \u001b[1;32mif\u001b[0m \u001b[0merrors\u001b[0m \u001b[1;33m!=\u001b[0m \u001b[1;34m\"ignore\"\u001b[0m\u001b[1;33m:\u001b[0m\u001b[1;33m\u001b[0m\u001b[1;33m\u001b[0m\u001b[0m\n\u001b[1;32m-> 6017\u001b[1;33m                 \u001b[1;32mraise\u001b[0m \u001b[0mKeyError\u001b[0m\u001b[1;33m(\u001b[0m\u001b[1;34mf\"{labels[mask]} not found in axis\"\u001b[0m\u001b[1;33m)\u001b[0m\u001b[1;33m\u001b[0m\u001b[1;33m\u001b[0m\u001b[0m\n\u001b[0m\u001b[0;32m   6018\u001b[0m             \u001b[0mindexer\u001b[0m \u001b[1;33m=\u001b[0m \u001b[0mindexer\u001b[0m\u001b[1;33m[\u001b[0m\u001b[1;33m~\u001b[0m\u001b[0mmask\u001b[0m\u001b[1;33m]\u001b[0m\u001b[1;33m\u001b[0m\u001b[1;33m\u001b[0m\u001b[0m\n\u001b[0;32m   6019\u001b[0m         \u001b[1;32mreturn\u001b[0m \u001b[0mself\u001b[0m\u001b[1;33m.\u001b[0m\u001b[0mdelete\u001b[0m\u001b[1;33m(\u001b[0m\u001b[0mindexer\u001b[0m\u001b[1;33m)\u001b[0m\u001b[1;33m\u001b[0m\u001b[1;33m\u001b[0m\u001b[0m\n",
      "\u001b[1;31mKeyError\u001b[0m: \"['Time Period'] not found in axis\""
     ]
    }
   ],
   "source": [
    "# Dropping text columns\n",
    "\n",
    "past_data.drop(columns = \"Time Period\", inplace = True)\n",
    "current_data.drop(columns = \"Time Period\", inplace = True)"
   ]
  },
  {
   "cell_type": "code",
   "execution_count": 58,
   "metadata": {},
   "outputs": [],
   "source": [
    "# We know from earlier PP testing that all the data become stationary after first differencing\n",
    "data_diff = data.diff().dropna()\n",
    "past_diff = past_data.diff().dropna()\n",
    "current_diff = current_data.diff().dropna()"
   ]
  },
  {
   "cell_type": "code",
   "execution_count": 54,
   "metadata": {},
   "outputs": [],
   "source": [
    "from statsmodels.tsa.stattools import grangercausalitytests\n",
    "\n",
    "maxlag = 12\n",
    "test = 'ssr_chi2test'\n",
    "\n",
    "# Checking Granger Causality of all possible combinations in the Time Series data. \n",
    "# Rows are explanatory variables\n",
    "# Columns are response variables\n",
    "def grangers_causation_matrix(data, variables, test = 'ssr_chi2test', verbose = False):\n",
    "    results_df = pd.DataFrame(np.zeros((len(variables), len(variables))), columns = variables, index = variables)\n",
    "    \n",
    "    for col in results_df.columns:\n",
    "        for row in results_df.index:\n",
    "            test_result = grangercausalitytests(data[[row,col]], maxlag = maxlag, verbose = False)\n",
    "            p_values = [round(test_result[i+1][0][test][1],4 ) for i in range(maxlag)]\n",
    "            if verbose:\n",
    "                print(f'Y={r}, X = {c}, P Values = {p_values}')\n",
    "            min_p_value = np.min(p_values)\n",
    "            results_df.loc[row, col] = min_p_value\n",
    "    \n",
    "    results_df.columns = [var + '_x' for var in variables]\n",
    "    results_df.index = [var + '_y' for var in variables]\n",
    "    return results_df"
   ]
  },
  {
   "cell_type": "markdown",
   "metadata": {},
   "source": [
    "## Testing all time periods"
   ]
  },
  {
   "cell_type": "code",
   "execution_count": 76,
   "metadata": {},
   "outputs": [
    {
     "name": "stdout",
     "output_type": "stream",
     "text": [
      "\n",
      "Granger Causality\n",
      "number of lags (no zero) 1\n",
      "ssr based F test:         F=0.0175  , p=0.8948  , df_denom=523, df_num=1\n",
      "ssr based chi2 test:   chi2=0.0176  , p=0.8944  , df=1\n",
      "likelihood ratio test: chi2=0.0176  , p=0.8944  , df=1\n",
      "parameter F test:         F=0.0175  , p=0.8948  , df_denom=523, df_num=1\n",
      "\n",
      "Granger Causality\n",
      "number of lags (no zero) 2\n",
      "ssr based F test:         F=0.0036  , p=0.9964  , df_denom=520, df_num=2\n",
      "ssr based chi2 test:   chi2=0.0074  , p=0.9963  , df=2\n",
      "likelihood ratio test: chi2=0.0074  , p=0.9963  , df=2\n",
      "parameter F test:         F=0.0036  , p=0.9964  , df_denom=520, df_num=2\n",
      "\n",
      "Granger Causality\n",
      "number of lags (no zero) 3\n",
      "ssr based F test:         F=0.3189  , p=0.8117  , df_denom=517, df_num=3\n",
      "ssr based chi2 test:   chi2=0.9698  , p=0.8086  , df=3\n",
      "likelihood ratio test: chi2=0.9689  , p=0.8088  , df=3\n",
      "parameter F test:         F=0.3189  , p=0.8117  , df_denom=517, df_num=3\n",
      "\n",
      "Granger Causality\n",
      "number of lags (no zero) 4\n",
      "ssr based F test:         F=0.2220  , p=0.9261  , df_denom=514, df_num=4\n",
      "ssr based chi2 test:   chi2=0.9036  , p=0.9240  , df=4\n",
      "likelihood ratio test: chi2=0.9028  , p=0.9242  , df=4\n",
      "parameter F test:         F=0.2220  , p=0.9261  , df_denom=514, df_num=4\n",
      "\n",
      "Granger Causality\n",
      "number of lags (no zero) 5\n",
      "ssr based F test:         F=0.4480  , p=0.8148  , df_denom=511, df_num=5\n",
      "ssr based chi2 test:   chi2=2.2880  , p=0.8080  , df=5\n",
      "likelihood ratio test: chi2=2.2830  , p=0.8088  , df=5\n",
      "parameter F test:         F=0.4480  , p=0.8148  , df_denom=511, df_num=5\n",
      "\n",
      "Granger Causality\n",
      "number of lags (no zero) 6\n",
      "ssr based F test:         F=0.5832  , p=0.7439  , df_denom=508, df_num=6\n",
      "ssr based chi2 test:   chi2=3.5886  , p=0.7321  , df=6\n",
      "likelihood ratio test: chi2=3.5763  , p=0.7338  , df=6\n",
      "parameter F test:         F=0.5832  , p=0.7439  , df_denom=508, df_num=6\n",
      "\n",
      "Granger Causality\n",
      "number of lags (no zero) 7\n",
      "ssr based F test:         F=0.5480  , p=0.7979  , df_denom=505, df_num=7\n",
      "ssr based chi2 test:   chi2=3.9502  , p=0.7855  , df=7\n",
      "likelihood ratio test: chi2=3.9352  , p=0.7872  , df=7\n",
      "parameter F test:         F=0.5480  , p=0.7979  , df_denom=505, df_num=7\n",
      "\n",
      "Granger Causality\n",
      "number of lags (no zero) 8\n",
      "ssr based F test:         F=0.6110  , p=0.7690  , df_denom=502, df_num=8\n",
      "ssr based chi2 test:   chi2=5.0531  , p=0.7519  , df=8\n",
      "likelihood ratio test: chi2=5.0287  , p=0.7545  , df=8\n",
      "parameter F test:         F=0.6110  , p=0.7690  , df_denom=502, df_num=8\n",
      "\n",
      "Granger Causality\n",
      "number of lags (no zero) 9\n",
      "ssr based F test:         F=0.6626  , p=0.7430  , df_denom=499, df_num=9\n",
      "ssr based chi2 test:   chi2=6.1906  , p=0.7207  , df=9\n",
      "likelihood ratio test: chi2=6.1539  , p=0.7244  , df=9\n",
      "parameter F test:         F=0.6626  , p=0.7430  , df_denom=499, df_num=9\n",
      "\n",
      "Granger Causality\n",
      "number of lags (no zero) 10\n",
      "ssr based F test:         F=0.6326  , p=0.7862  , df_denom=496, df_num=10\n",
      "ssr based chi2 test:   chi2=6.5938  , p=0.7632  , df=10\n",
      "likelihood ratio test: chi2=6.5521  , p=0.7669  , df=10\n",
      "parameter F test:         F=0.6326  , p=0.7862  , df_denom=496, df_num=10\n"
     ]
    },
    {
     "data": {
      "text/plain": [
       "{1: ({'ssr_ftest': (0.017512768696227587, 0.8947695743703131, 523.0, 1),\n",
       "   'ssr_chi2test': (0.017613224348404802, 0.8944189191987388, 1),\n",
       "   'lrtest': (0.017612929463439286, 0.8944197978579173, 1),\n",
       "   'params_ftest': (0.01751276869621765, 0.8947695743703131, 523.0, 1.0)},\n",
       "  [<statsmodels.regression.linear_model.RegressionResultsWrapper at 0x22521d60308>,\n",
       "   <statsmodels.regression.linear_model.RegressionResultsWrapper at 0x22521a5e9c8>,\n",
       "   array([[0., 1., 0.]])]),\n",
       " 2: ({'ssr_ftest': (0.00364584797582748, 0.9963608155270594, 520.0, 2),\n",
       "   'ssr_chi2test': (0.007361808412728566, 0.996325862017038, 2),\n",
       "   'lrtest': (0.007361756797763519, 0.9963258877297005, 2),\n",
       "   'params_ftest': (0.0036458479758851364, 0.9963608155270018, 520.0, 2.0)},\n",
       "  [<statsmodels.regression.linear_model.RegressionResultsWrapper at 0x22521d72e08>,\n",
       "   <statsmodels.regression.linear_model.RegressionResultsWrapper at 0x22521d44488>,\n",
       "   array([[0., 0., 1., 0., 0.],\n",
       "          [0., 0., 0., 1., 0.]])]),\n",
       " 3: ({'ssr_ftest': (0.318936844306198, 0.8116913749677686, 517.0, 3),\n",
       "   'ssr_chi2test': (0.9697654144087877, 0.8085672756349307, 3),\n",
       "   'lrtest': (0.9688691489050143, 0.8087840935399977, 3),\n",
       "   'params_ftest': (0.31893684430620245, 0.8116913749677686, 517.0, 3.0)},\n",
       "  [<statsmodels.regression.linear_model.RegressionResultsWrapper at 0x22521d44cc8>,\n",
       "   <statsmodels.regression.linear_model.RegressionResultsWrapper at 0x22521d44288>,\n",
       "   array([[0., 0., 0., 1., 0., 0., 0.],\n",
       "          [0., 0., 0., 0., 1., 0., 0.],\n",
       "          [0., 0., 0., 0., 0., 1., 0.]])]),\n",
       " 4: ({'ssr_ftest': (0.2220114948122065, 0.926133045391293, 514.0, 4),\n",
       "   'ssr_chi2test': (0.9035954224652452, 0.9240444320443587, 4),\n",
       "   'lrtest': (0.902815742284929, 0.924156508530573, 4),\n",
       "   'params_ftest': (0.22201149481220525, 0.926133045391293, 514.0, 4.0)},\n",
       "  [<statsmodels.regression.linear_model.RegressionResultsWrapper at 0x22521d75cc8>,\n",
       "   <statsmodels.regression.linear_model.RegressionResultsWrapper at 0x22521d75d08>,\n",
       "   array([[0., 0., 0., 0., 1., 0., 0., 0., 0.],\n",
       "          [0., 0., 0., 0., 0., 1., 0., 0., 0.],\n",
       "          [0., 0., 0., 0., 0., 0., 1., 0., 0.],\n",
       "          [0., 0., 0., 0., 0., 0., 0., 1., 0.]])]),\n",
       " 5: ({'ssr_ftest': (0.44796321418350493, 0.8148234608841104, 511.0, 5),\n",
       "   'ssr_chi2test': (2.28803128966526, 0.8080231382763278, 5),\n",
       "   'lrtest': (2.283031443240361, 0.808755843529961, 5),\n",
       "   'params_ftest': (0.44796321418348917, 0.8148234608841268, 511.0, 5.0)},\n",
       "  [<statsmodels.regression.linear_model.RegressionResultsWrapper at 0x22521d753c8>,\n",
       "   <statsmodels.regression.linear_model.RegressionResultsWrapper at 0x22521d75a88>,\n",
       "   array([[0., 0., 0., 0., 0., 1., 0., 0., 0., 0., 0.],\n",
       "          [0., 0., 0., 0., 0., 0., 1., 0., 0., 0., 0.],\n",
       "          [0., 0., 0., 0., 0., 0., 0., 1., 0., 0., 0.],\n",
       "          [0., 0., 0., 0., 0., 0., 0., 0., 1., 0., 0.],\n",
       "          [0., 0., 0., 0., 0., 0., 0., 0., 0., 1., 0.]])]),\n",
       " 6: ({'ssr_ftest': (0.5831794405511459, 0.7438654065192679, 508.0, 6),\n",
       "   'ssr_chi2test': (3.58861994323402, 0.7321442989915474, 6),\n",
       "   'lrtest': (3.5763172937927266, 0.7337898822571134, 6),\n",
       "   'params_ftest': (0.5831794405511396, 0.7438654065192679, 508.0, 6.0)},\n",
       "  [<statsmodels.regression.linear_model.RegressionResultsWrapper at 0x22521d75948>,\n",
       "   <statsmodels.regression.linear_model.RegressionResultsWrapper at 0x22521a55c48>,\n",
       "   array([[0., 0., 0., 0., 0., 0., 1., 0., 0., 0., 0., 0., 0.],\n",
       "          [0., 0., 0., 0., 0., 0., 0., 1., 0., 0., 0., 0., 0.],\n",
       "          [0., 0., 0., 0., 0., 0., 0., 0., 1., 0., 0., 0., 0.],\n",
       "          [0., 0., 0., 0., 0., 0., 0., 0., 0., 1., 0., 0., 0.],\n",
       "          [0., 0., 0., 0., 0., 0., 0., 0., 0., 0., 1., 0., 0.],\n",
       "          [0., 0., 0., 0., 0., 0., 0., 0., 0., 0., 0., 1., 0.]])]),\n",
       " 7: ({'ssr_ftest': (0.5480316667352377, 0.7979428954613977, 505.0, 7),\n",
       "   'ssr_chi2test': (3.950168845378743, 0.7854987868637364, 7),\n",
       "   'lrtest': (3.935240712093673, 0.787205505451017, 7),\n",
       "   'params_ftest': (0.5480316667352482, 0.7979428954613911, 505.0, 7.0)},\n",
       "  [<statsmodels.regression.linear_model.RegressionResultsWrapper at 0x22521d79dc8>,\n",
       "   <statsmodels.regression.linear_model.RegressionResultsWrapper at 0x22521d772c8>,\n",
       "   array([[0., 0., 0., 0., 0., 0., 0., 1., 0., 0., 0., 0., 0., 0., 0.],\n",
       "          [0., 0., 0., 0., 0., 0., 0., 0., 1., 0., 0., 0., 0., 0., 0.],\n",
       "          [0., 0., 0., 0., 0., 0., 0., 0., 0., 1., 0., 0., 0., 0., 0.],\n",
       "          [0., 0., 0., 0., 0., 0., 0., 0., 0., 0., 1., 0., 0., 0., 0.],\n",
       "          [0., 0., 0., 0., 0., 0., 0., 0., 0., 0., 0., 1., 0., 0., 0.],\n",
       "          [0., 0., 0., 0., 0., 0., 0., 0., 0., 0., 0., 0., 1., 0., 0.],\n",
       "          [0., 0., 0., 0., 0., 0., 0., 0., 0., 0., 0., 0., 0., 1., 0.]])]),\n",
       " 8: ({'ssr_ftest': (0.6109503439734247, 0.7689532314921222, 502.0, 8),\n",
       "   'ssr_chi2test': (5.053119179636771, 0.7518838892060528, 8),\n",
       "   'lrtest': (5.028678450219786, 0.7545065880333436, 8),\n",
       "   'params_ftest': (0.6109503439734234, 0.7689532314921282, 502.0, 8.0)},\n",
       "  [<statsmodels.regression.linear_model.RegressionResultsWrapper at 0x22521d66a88>,\n",
       "   <statsmodels.regression.linear_model.RegressionResultsWrapper at 0x22521d49908>,\n",
       "   array([[0., 0., 0., 0., 0., 0., 0., 0., 1., 0., 0., 0., 0., 0., 0., 0.,\n",
       "           0.],\n",
       "          [0., 0., 0., 0., 0., 0., 0., 0., 0., 1., 0., 0., 0., 0., 0., 0.,\n",
       "           0.],\n",
       "          [0., 0., 0., 0., 0., 0., 0., 0., 0., 0., 1., 0., 0., 0., 0., 0.,\n",
       "           0.],\n",
       "          [0., 0., 0., 0., 0., 0., 0., 0., 0., 0., 0., 1., 0., 0., 0., 0.,\n",
       "           0.],\n",
       "          [0., 0., 0., 0., 0., 0., 0., 0., 0., 0., 0., 0., 1., 0., 0., 0.,\n",
       "           0.],\n",
       "          [0., 0., 0., 0., 0., 0., 0., 0., 0., 0., 0., 0., 0., 1., 0., 0.,\n",
       "           0.],\n",
       "          [0., 0., 0., 0., 0., 0., 0., 0., 0., 0., 0., 0., 0., 0., 1., 0.,\n",
       "           0.],\n",
       "          [0., 0., 0., 0., 0., 0., 0., 0., 0., 0., 0., 0., 0., 0., 0., 1.,\n",
       "           0.]])]),\n",
       " 9: ({'ssr_ftest': (0.662612393770483, 0.7429548227846388, 499.0, 9),\n",
       "   'ssr_chi2test': (6.190579117751486, 0.7207031911782215, 9),\n",
       "   'lrtest': (6.153879650269573, 0.7244240485309971, 9),\n",
       "   'params_ftest': (0.6626123937704831, 0.7429548227846388, 499.0, 9.0)},\n",
       "  [<statsmodels.regression.linear_model.RegressionResultsWrapper at 0x22521d49d08>,\n",
       "   <statsmodels.regression.linear_model.RegressionResultsWrapper at 0x22521d77e48>,\n",
       "   array([[0., 0., 0., 0., 0., 0., 0., 0., 0., 1., 0., 0., 0., 0., 0., 0.,\n",
       "           0., 0., 0.],\n",
       "          [0., 0., 0., 0., 0., 0., 0., 0., 0., 0., 1., 0., 0., 0., 0., 0.,\n",
       "           0., 0., 0.],\n",
       "          [0., 0., 0., 0., 0., 0., 0., 0., 0., 0., 0., 1., 0., 0., 0., 0.,\n",
       "           0., 0., 0.],\n",
       "          [0., 0., 0., 0., 0., 0., 0., 0., 0., 0., 0., 0., 1., 0., 0., 0.,\n",
       "           0., 0., 0.],\n",
       "          [0., 0., 0., 0., 0., 0., 0., 0., 0., 0., 0., 0., 0., 1., 0., 0.,\n",
       "           0., 0., 0.],\n",
       "          [0., 0., 0., 0., 0., 0., 0., 0., 0., 0., 0., 0., 0., 0., 1., 0.,\n",
       "           0., 0., 0.],\n",
       "          [0., 0., 0., 0., 0., 0., 0., 0., 0., 0., 0., 0., 0., 0., 0., 1.,\n",
       "           0., 0., 0.],\n",
       "          [0., 0., 0., 0., 0., 0., 0., 0., 0., 0., 0., 0., 0., 0., 0., 0.,\n",
       "           1., 0., 0.],\n",
       "          [0., 0., 0., 0., 0., 0., 0., 0., 0., 0., 0., 0., 0., 0., 0., 0.,\n",
       "           0., 1., 0.]])]),\n",
       " 10: ({'ssr_ftest': (0.6325943193593515, 0.7862458981609486, 496.0, 10),\n",
       "   'ssr_chi2test': (6.593775465902918, 0.7631574055947264, 10),\n",
       "   'lrtest': (6.55208136550641, 0.7669457825451517, 10),\n",
       "   'params_ftest': (0.6325943193593468, 0.7862458981609531, 496.0, 10.0)},\n",
       "  [<statsmodels.regression.linear_model.RegressionResultsWrapper at 0x22521dab348>,\n",
       "   <statsmodels.regression.linear_model.RegressionResultsWrapper at 0x22521dab808>,\n",
       "   array([[0., 0., 0., 0., 0., 0., 0., 0., 0., 0., 1., 0., 0., 0., 0., 0.,\n",
       "           0., 0., 0., 0., 0.],\n",
       "          [0., 0., 0., 0., 0., 0., 0., 0., 0., 0., 0., 1., 0., 0., 0., 0.,\n",
       "           0., 0., 0., 0., 0.],\n",
       "          [0., 0., 0., 0., 0., 0., 0., 0., 0., 0., 0., 0., 1., 0., 0., 0.,\n",
       "           0., 0., 0., 0., 0.],\n",
       "          [0., 0., 0., 0., 0., 0., 0., 0., 0., 0., 0., 0., 0., 1., 0., 0.,\n",
       "           0., 0., 0., 0., 0.],\n",
       "          [0., 0., 0., 0., 0., 0., 0., 0., 0., 0., 0., 0., 0., 0., 1., 0.,\n",
       "           0., 0., 0., 0., 0.],\n",
       "          [0., 0., 0., 0., 0., 0., 0., 0., 0., 0., 0., 0., 0., 0., 0., 1.,\n",
       "           0., 0., 0., 0., 0.],\n",
       "          [0., 0., 0., 0., 0., 0., 0., 0., 0., 0., 0., 0., 0., 0., 0., 0.,\n",
       "           1., 0., 0., 0., 0.],\n",
       "          [0., 0., 0., 0., 0., 0., 0., 0., 0., 0., 0., 0., 0., 0., 0., 0.,\n",
       "           0., 1., 0., 0., 0.],\n",
       "          [0., 0., 0., 0., 0., 0., 0., 0., 0., 0., 0., 0., 0., 0., 0., 0.,\n",
       "           0., 0., 1., 0., 0.],\n",
       "          [0., 0., 0., 0., 0., 0., 0., 0., 0., 0., 0., 0., 0., 0., 0., 0.,\n",
       "           0., 0., 0., 1., 0.]])])}"
      ]
     },
     "execution_count": 76,
     "metadata": {},
     "output_type": "execute_result"
    }
   ],
   "source": [
    "grangercausalitytests(data_diff[[\"Inflation\", \"Unemployment\"]], maxlag= 10)"
   ]
  },
  {
   "cell_type": "code",
   "execution_count": 77,
   "metadata": {
    "scrolled": true
   },
   "outputs": [
    {
     "name": "stdout",
     "output_type": "stream",
     "text": [
      "\n",
      "Granger Causality\n",
      "number of lags (no zero) 1\n",
      "ssr based F test:         F=5.9460  , p=0.0151  , df_denom=523, df_num=1\n",
      "ssr based chi2 test:   chi2=5.9801  , p=0.0145  , df=1\n",
      "likelihood ratio test: chi2=5.9463  , p=0.0147  , df=1\n",
      "parameter F test:         F=5.9460  , p=0.0151  , df_denom=523, df_num=1\n",
      "\n",
      "Granger Causality\n",
      "number of lags (no zero) 2\n",
      "ssr based F test:         F=3.4778  , p=0.0316  , df_denom=520, df_num=2\n",
      "ssr based chi2 test:   chi2=7.0224  , p=0.0299  , df=2\n",
      "likelihood ratio test: chi2=6.9758  , p=0.0306  , df=2\n",
      "parameter F test:         F=3.4778  , p=0.0316  , df_denom=520, df_num=2\n",
      "\n",
      "Granger Causality\n",
      "number of lags (no zero) 3\n",
      "ssr based F test:         F=2.3027  , p=0.0762  , df_denom=517, df_num=3\n",
      "ssr based chi2 test:   chi2=7.0015  , p=0.0718  , df=3\n",
      "likelihood ratio test: chi2=6.9551  , p=0.0733  , df=3\n",
      "parameter F test:         F=2.3027  , p=0.0762  , df_denom=517, df_num=3\n",
      "\n",
      "Granger Causality\n",
      "number of lags (no zero) 4\n",
      "ssr based F test:         F=1.8783  , p=0.1129  , df_denom=514, df_num=4\n",
      "ssr based chi2 test:   chi2=7.6450  , p=0.1055  , df=4\n",
      "likelihood ratio test: chi2=7.5896  , p=0.1078  , df=4\n",
      "parameter F test:         F=1.8783  , p=0.1129  , df_denom=514, df_num=4\n",
      "\n",
      "Granger Causality\n",
      "number of lags (no zero) 5\n",
      "ssr based F test:         F=1.4974  , p=0.1890  , df_denom=511, df_num=5\n",
      "ssr based chi2 test:   chi2=7.6482  , p=0.1767  , df=5\n",
      "likelihood ratio test: chi2=7.5927  , p=0.1802  , df=5\n",
      "parameter F test:         F=1.4974  , p=0.1890  , df_denom=511, df_num=5\n",
      "\n",
      "Granger Causality\n",
      "number of lags (no zero) 6\n",
      "ssr based F test:         F=1.3661  , p=0.2264  , df_denom=508, df_num=6\n",
      "ssr based chi2 test:   chi2=8.4064  , p=0.2098  , df=6\n",
      "likelihood ratio test: chi2=8.3393  , p=0.2143  , df=6\n",
      "parameter F test:         F=1.3661  , p=0.2264  , df_denom=508, df_num=6\n",
      "\n",
      "Granger Causality\n",
      "number of lags (no zero) 7\n",
      "ssr based F test:         F=1.1820  , p=0.3113  , df_denom=505, df_num=7\n",
      "ssr based chi2 test:   chi2=8.5195  , p=0.2890  , df=7\n",
      "likelihood ratio test: chi2=8.4505  , p=0.2945  , df=7\n",
      "parameter F test:         F=1.1820  , p=0.3113  , df_denom=505, df_num=7\n",
      "\n",
      "Granger Causality\n",
      "number of lags (no zero) 8\n",
      "ssr based F test:         F=1.0371  , p=0.4068  , df_denom=502, df_num=8\n",
      "ssr based chi2 test:   chi2=8.5777  , p=0.3792  , df=8\n",
      "likelihood ratio test: chi2=8.5076  , p=0.3855  , df=8\n",
      "parameter F test:         F=1.0371  , p=0.4068  , df_denom=502, df_num=8\n",
      "\n",
      "Granger Causality\n",
      "number of lags (no zero) 9\n",
      "ssr based F test:         F=0.8966  , p=0.5280  , df_denom=499, df_num=9\n",
      "ssr based chi2 test:   chi2=8.3768  , p=0.4967  , df=9\n",
      "likelihood ratio test: chi2=8.3098  , p=0.5033  , df=9\n",
      "parameter F test:         F=0.8966  , p=0.5280  , df_denom=499, df_num=9\n",
      "\n",
      "Granger Causality\n",
      "number of lags (no zero) 10\n",
      "ssr based F test:         F=0.8302  , p=0.5996  , df_denom=496, df_num=10\n",
      "ssr based chi2 test:   chi2=8.6540  , p=0.5652  , df=10\n",
      "likelihood ratio test: chi2=8.5824  , p=0.5721  , df=10\n",
      "parameter F test:         F=0.8302  , p=0.5996  , df_denom=496, df_num=10\n"
     ]
    },
    {
     "data": {
      "text/plain": [
       "{1: ({'ssr_ftest': (5.945974657824992, 0.015082678535216545, 523.0, 1),\n",
       "   'ssr_chi2test': (5.980081587028578, 0.01446833288869043, 1),\n",
       "   'lrtest': (5.946343355770523, 0.014747847432542604, 1),\n",
       "   'params_ftest': (5.945974657824919, 0.015082678535217189, 523.0, 1.0)},\n",
       "  [<statsmodels.regression.linear_model.RegressionResultsWrapper at 0x22521d40648>,\n",
       "   <statsmodels.regression.linear_model.RegressionResultsWrapper at 0x22521d40388>,\n",
       "   array([[0., 1., 0.]])]),\n",
       " 2: ({'ssr_ftest': (3.477752385024618, 0.03159682688383492, 520.0, 2),\n",
       "   'ssr_chi2test': (7.022384623607403, 0.029861289235343515, 2),\n",
       "   'lrtest': (6.975833668125006, 0.030564476775659807, 2),\n",
       "   'params_ftest': (3.4777523850246026, 0.03159682688383585, 520.0, 2.0)},\n",
       "  [<statsmodels.regression.linear_model.RegressionResultsWrapper at 0x22521d40788>,\n",
       "   <statsmodels.regression.linear_model.RegressionResultsWrapper at 0x22521db29c8>,\n",
       "   array([[0., 0., 1., 0., 0.],\n",
       "          [0., 0., 0., 1., 0.]])]),\n",
       " 3: ({'ssr_ftest': (2.30265978969266, 0.07619723880737823, 517.0, 3),\n",
       "   'ssr_chi2test': (7.001511004636096, 0.07184962723128115, 3),\n",
       "   'lrtest': (6.955147629982548, 0.07334119371340708, 3),\n",
       "   'params_ftest': (2.3026597896926284, 0.07619723880738313, 517.0, 3.0)},\n",
       "  [<statsmodels.regression.linear_model.RegressionResultsWrapper at 0x22521d31d08>,\n",
       "   <statsmodels.regression.linear_model.RegressionResultsWrapper at 0x22521d6cc88>,\n",
       "   array([[0., 0., 0., 1., 0., 0., 0.],\n",
       "          [0., 0., 0., 0., 1., 0., 0.],\n",
       "          [0., 0., 0., 0., 0., 1., 0.]])]),\n",
       " 4: ({'ssr_ftest': (1.8783488186305466, 0.11288391866877859, 514.0, 4),\n",
       "   'ssr_chi2test': (7.644952779328994, 0.10548475701770388, 4),\n",
       "   'lrtest': (7.589616330569243, 0.10782190238953884, 4),\n",
       "   'params_ftest': (1.8783488186305546, 0.11288391866877859, 514.0, 4.0)},\n",
       "  [<statsmodels.regression.linear_model.RegressionResultsWrapper at 0x22521a53508>,\n",
       "   <statsmodels.regression.linear_model.RegressionResultsWrapper at 0x22521a534c8>,\n",
       "   array([[0., 0., 0., 0., 1., 0., 0., 0., 0.],\n",
       "          [0., 0., 0., 0., 0., 1., 0., 0., 0.],\n",
       "          [0., 0., 0., 0., 0., 0., 1., 0., 0.],\n",
       "          [0., 0., 0., 0., 0., 0., 0., 1., 0.]])]),\n",
       " 5: ({'ssr_ftest': (1.4974094887305158, 0.18897288866943587, 511.0, 5),\n",
       "   'ssr_chi2test': (7.648216762400481, 0.17671848646460453, 5),\n",
       "   'lrtest': (7.592728205085336, 0.18015568169384358, 5),\n",
       "   'params_ftest': (1.4974094887305305, 0.18897288866943587, 511.0, 5.0)},\n",
       "  [<statsmodels.regression.linear_model.RegressionResultsWrapper at 0x22521d5e348>,\n",
       "   <statsmodels.regression.linear_model.RegressionResultsWrapper at 0x22521d5e208>,\n",
       "   array([[0., 0., 0., 0., 0., 1., 0., 0., 0., 0., 0.],\n",
       "          [0., 0., 0., 0., 0., 0., 1., 0., 0., 0., 0.],\n",
       "          [0., 0., 0., 0., 0., 0., 0., 1., 0., 0., 0.],\n",
       "          [0., 0., 0., 0., 0., 0., 0., 0., 1., 0., 0.],\n",
       "          [0., 0., 0., 0., 0., 0., 0., 0., 0., 1., 0.]])]),\n",
       " 6: ({'ssr_ftest': (1.3661082334161372, 0.22639235740970126, 508.0, 6),\n",
       "   'ssr_chi2test': (8.406406176493787, 0.20981469868800243, 6),\n",
       "   'lrtest': (8.339307720072725, 0.21428359558773044, 6),\n",
       "   'params_ftest': (1.3661082334161196, 0.22639235740971203, 508.0, 6.0)},\n",
       "  [<statsmodels.regression.linear_model.RegressionResultsWrapper at 0x22521a59c88>,\n",
       "   <statsmodels.regression.linear_model.RegressionResultsWrapper at 0x22521f3f708>,\n",
       "   array([[0., 0., 0., 0., 0., 0., 1., 0., 0., 0., 0., 0., 0.],\n",
       "          [0., 0., 0., 0., 0., 0., 0., 1., 0., 0., 0., 0., 0.],\n",
       "          [0., 0., 0., 0., 0., 0., 0., 0., 1., 0., 0., 0., 0.],\n",
       "          [0., 0., 0., 0., 0., 0., 0., 0., 0., 1., 0., 0., 0.],\n",
       "          [0., 0., 0., 0., 0., 0., 0., 0., 0., 0., 1., 0., 0.],\n",
       "          [0., 0., 0., 0., 0., 0., 0., 0., 0., 0., 0., 1., 0.]])]),\n",
       " 7: ({'ssr_ftest': (1.1819682362007742, 0.3112980443571473, 505.0, 7),\n",
       "   'ssr_chi2test': (8.51953342528875, 0.289014909769739, 7),\n",
       "   'lrtest': (8.450495651180177, 0.2945489232192828, 7),\n",
       "   'params_ftest': (1.1819682362007964, 0.3112980443571432, 505.0, 7.0)},\n",
       "  [<statsmodels.regression.linear_model.RegressionResultsWrapper at 0x22521db7788>,\n",
       "   <statsmodels.regression.linear_model.RegressionResultsWrapper at 0x22521db7fc8>,\n",
       "   array([[0., 0., 0., 0., 0., 0., 0., 1., 0., 0., 0., 0., 0., 0., 0.],\n",
       "          [0., 0., 0., 0., 0., 0., 0., 0., 1., 0., 0., 0., 0., 0., 0.],\n",
       "          [0., 0., 0., 0., 0., 0., 0., 0., 0., 1., 0., 0., 0., 0., 0.],\n",
       "          [0., 0., 0., 0., 0., 0., 0., 0., 0., 0., 1., 0., 0., 0., 0.],\n",
       "          [0., 0., 0., 0., 0., 0., 0., 0., 0., 0., 0., 1., 0., 0., 0.],\n",
       "          [0., 0., 0., 0., 0., 0., 0., 0., 0., 0., 0., 0., 1., 0., 0.],\n",
       "          [0., 0., 0., 0., 0., 0., 0., 0., 0., 0., 0., 0., 0., 1., 0.]])]),\n",
       " 8: ({'ssr_ftest': (1.0370934248997694, 0.4067999771579657, 502.0, 8),\n",
       "   'ssr_chi2test': (8.577712948573389, 0.3791608972214547, 8),\n",
       "   'lrtest': (8.50760082401598, 0.3855183731516403, 8),\n",
       "   'params_ftest': (1.0370934248997599, 0.4067999771579756, 502.0, 8.0)},\n",
       "  [<statsmodels.regression.linear_model.RegressionResultsWrapper at 0x22521f370c8>,\n",
       "   <statsmodels.regression.linear_model.RegressionResultsWrapper at 0x22521f37148>,\n",
       "   array([[0., 0., 0., 0., 0., 0., 0., 0., 1., 0., 0., 0., 0., 0., 0., 0.,\n",
       "           0.],\n",
       "          [0., 0., 0., 0., 0., 0., 0., 0., 0., 1., 0., 0., 0., 0., 0., 0.,\n",
       "           0.],\n",
       "          [0., 0., 0., 0., 0., 0., 0., 0., 0., 0., 1., 0., 0., 0., 0., 0.,\n",
       "           0.],\n",
       "          [0., 0., 0., 0., 0., 0., 0., 0., 0., 0., 0., 1., 0., 0., 0., 0.,\n",
       "           0.],\n",
       "          [0., 0., 0., 0., 0., 0., 0., 0., 0., 0., 0., 0., 1., 0., 0., 0.,\n",
       "           0.],\n",
       "          [0., 0., 0., 0., 0., 0., 0., 0., 0., 0., 0., 0., 0., 1., 0., 0.,\n",
       "           0.],\n",
       "          [0., 0., 0., 0., 0., 0., 0., 0., 0., 0., 0., 0., 0., 0., 1., 0.,\n",
       "           0.],\n",
       "          [0., 0., 0., 0., 0., 0., 0., 0., 0., 0., 0., 0., 0., 0., 0., 1.,\n",
       "           0.]])]),\n",
       " 9: ({'ssr_ftest': (0.8966194514769757, 0.5280116346659913, 499.0, 9),\n",
       "   'ssr_chi2test': (8.376833432436193, 0.496661240301736, 9),\n",
       "   'lrtest': (8.309821965393553, 0.5032502978236715, 9),\n",
       "   'params_ftest': (0.8966194514769936, 0.5280116346659798, 499.0, 9.0)},\n",
       "  [<statsmodels.regression.linear_model.RegressionResultsWrapper at 0x22521f376c8>,\n",
       "   <statsmodels.regression.linear_model.RegressionResultsWrapper at 0x22521f37b88>,\n",
       "   array([[0., 0., 0., 0., 0., 0., 0., 0., 0., 1., 0., 0., 0., 0., 0., 0.,\n",
       "           0., 0., 0.],\n",
       "          [0., 0., 0., 0., 0., 0., 0., 0., 0., 0., 1., 0., 0., 0., 0., 0.,\n",
       "           0., 0., 0.],\n",
       "          [0., 0., 0., 0., 0., 0., 0., 0., 0., 0., 0., 1., 0., 0., 0., 0.,\n",
       "           0., 0., 0.],\n",
       "          [0., 0., 0., 0., 0., 0., 0., 0., 0., 0., 0., 0., 1., 0., 0., 0.,\n",
       "           0., 0., 0.],\n",
       "          [0., 0., 0., 0., 0., 0., 0., 0., 0., 0., 0., 0., 0., 1., 0., 0.,\n",
       "           0., 0., 0.],\n",
       "          [0., 0., 0., 0., 0., 0., 0., 0., 0., 0., 0., 0., 0., 0., 1., 0.,\n",
       "           0., 0., 0.],\n",
       "          [0., 0., 0., 0., 0., 0., 0., 0., 0., 0., 0., 0., 0., 0., 0., 1.,\n",
       "           0., 0., 0.],\n",
       "          [0., 0., 0., 0., 0., 0., 0., 0., 0., 0., 0., 0., 0., 0., 0., 0.,\n",
       "           1., 0., 0.],\n",
       "          [0., 0., 0., 0., 0., 0., 0., 0., 0., 0., 0., 0., 0., 0., 0., 0.,\n",
       "           0., 1., 0.]])]),\n",
       " 10: ({'ssr_ftest': (0.8302489852167054, 0.5995642052980441, 496.0, 10),\n",
       "   'ssr_chi2test': (8.654006559617676, 0.5652238505724022, 10),\n",
       "   'lrtest': (8.582375567822965, 0.5721418882707187, 10),\n",
       "   'params_ftest': (0.8302489852167056, 0.5995642052980441, 496.0, 10.0)},\n",
       "  [<statsmodels.regression.linear_model.RegressionResultsWrapper at 0x22521f31088>,\n",
       "   <statsmodels.regression.linear_model.RegressionResultsWrapper at 0x22521f311c8>,\n",
       "   array([[0., 0., 0., 0., 0., 0., 0., 0., 0., 0., 1., 0., 0., 0., 0., 0.,\n",
       "           0., 0., 0., 0., 0.],\n",
       "          [0., 0., 0., 0., 0., 0., 0., 0., 0., 0., 0., 1., 0., 0., 0., 0.,\n",
       "           0., 0., 0., 0., 0.],\n",
       "          [0., 0., 0., 0., 0., 0., 0., 0., 0., 0., 0., 0., 1., 0., 0., 0.,\n",
       "           0., 0., 0., 0., 0.],\n",
       "          [0., 0., 0., 0., 0., 0., 0., 0., 0., 0., 0., 0., 0., 1., 0., 0.,\n",
       "           0., 0., 0., 0., 0.],\n",
       "          [0., 0., 0., 0., 0., 0., 0., 0., 0., 0., 0., 0., 0., 0., 1., 0.,\n",
       "           0., 0., 0., 0., 0.],\n",
       "          [0., 0., 0., 0., 0., 0., 0., 0., 0., 0., 0., 0., 0., 0., 0., 1.,\n",
       "           0., 0., 0., 0., 0.],\n",
       "          [0., 0., 0., 0., 0., 0., 0., 0., 0., 0., 0., 0., 0., 0., 0., 0.,\n",
       "           1., 0., 0., 0., 0.],\n",
       "          [0., 0., 0., 0., 0., 0., 0., 0., 0., 0., 0., 0., 0., 0., 0., 0.,\n",
       "           0., 1., 0., 0., 0.],\n",
       "          [0., 0., 0., 0., 0., 0., 0., 0., 0., 0., 0., 0., 0., 0., 0., 0.,\n",
       "           0., 0., 1., 0., 0.],\n",
       "          [0., 0., 0., 0., 0., 0., 0., 0., 0., 0., 0., 0., 0., 0., 0., 0.,\n",
       "           0., 0., 0., 1., 0.]])])}"
      ]
     },
     "execution_count": 77,
     "metadata": {},
     "output_type": "execute_result"
    }
   ],
   "source": [
    "grangercausalitytests(data_diff[[\"Unemployment\", \"Inflation\"]], maxlag = 10)"
   ]
  },
  {
   "cell_type": "code",
   "execution_count": 59,
   "metadata": {},
   "outputs": [
    {
     "data": {
      "text/html": [
       "<div>\n",
       "<style scoped>\n",
       "    .dataframe tbody tr th:only-of-type {\n",
       "        vertical-align: middle;\n",
       "    }\n",
       "\n",
       "    .dataframe tbody tr th {\n",
       "        vertical-align: top;\n",
       "    }\n",
       "\n",
       "    .dataframe thead th {\n",
       "        text-align: right;\n",
       "    }\n",
       "</style>\n",
       "<table border=\"1\" class=\"dataframe\">\n",
       "  <thead>\n",
       "    <tr style=\"text-align: right;\">\n",
       "      <th></th>\n",
       "      <th>Inflation_x</th>\n",
       "      <th>Unemployment_x</th>\n",
       "    </tr>\n",
       "  </thead>\n",
       "  <tbody>\n",
       "    <tr>\n",
       "      <th>Inflation_y</th>\n",
       "      <td>1.0000</td>\n",
       "      <td>0.7207</td>\n",
       "    </tr>\n",
       "    <tr>\n",
       "      <th>Unemployment_y</th>\n",
       "      <td>0.0145</td>\n",
       "      <td>1.0000</td>\n",
       "    </tr>\n",
       "  </tbody>\n",
       "</table>\n",
       "</div>"
      ],
      "text/plain": [
       "                Inflation_x  Unemployment_x\n",
       "Inflation_y          1.0000          0.7207\n",
       "Unemployment_y       0.0145          1.0000"
      ]
     },
     "execution_count": 59,
     "metadata": {},
     "output_type": "execute_result"
    }
   ],
   "source": [
    "grangers_causation_matrix(data_diff, variables = data_diff.columns)"
   ]
  },
  {
   "cell_type": "markdown",
   "metadata": {},
   "source": [
    "### Observation for all time periods: According to the SSR based chi2 test, Inflation does not Granger-Cause Unemployment for any lag order. Unemployment Granger-Causes Inflation for lag orders 1-2."
   ]
  },
  {
   "cell_type": "markdown",
   "metadata": {},
   "source": [
    "## Testing past time periods"
   ]
  },
  {
   "cell_type": "code",
   "execution_count": 78,
   "metadata": {},
   "outputs": [
    {
     "name": "stdout",
     "output_type": "stream",
     "text": [
      "\n",
      "Granger Causality\n",
      "number of lags (no zero) 1\n",
      "ssr based F test:         F=1.7903  , p=0.1854  , df_denom=67, df_num=1\n",
      "ssr based chi2 test:   chi2=1.8705  , p=0.1714  , df=1\n",
      "likelihood ratio test: chi2=1.8459  , p=0.1743  , df=1\n",
      "parameter F test:         F=1.7903  , p=0.1854  , df_denom=67, df_num=1\n",
      "\n",
      "Granger Causality\n",
      "number of lags (no zero) 2\n",
      "ssr based F test:         F=2.6093  , p=0.0814  , df_denom=64, df_num=2\n",
      "ssr based chi2 test:   chi2=5.6262  , p=0.0600  , df=2\n",
      "likelihood ratio test: chi2=5.4086  , p=0.0669  , df=2\n",
      "parameter F test:         F=2.6093  , p=0.0814  , df_denom=64, df_num=2\n",
      "\n",
      "Granger Causality\n",
      "number of lags (no zero) 3\n",
      "ssr based F test:         F=1.8737  , p=0.1435  , df_denom=61, df_num=3\n",
      "ssr based chi2 test:   chi2=6.2661  , p=0.0994  , df=3\n",
      "likelihood ratio test: chi2=5.9940  , p=0.1119  , df=3\n",
      "parameter F test:         F=1.8737  , p=0.1435  , df_denom=61, df_num=3\n",
      "\n",
      "Granger Causality\n",
      "number of lags (no zero) 4\n",
      "ssr based F test:         F=1.6300  , p=0.1790  , df_denom=58, df_num=4\n",
      "ssr based chi2 test:   chi2=7.5317  , p=0.1103  , df=4\n",
      "likelihood ratio test: chi2=7.1376  , p=0.1288  , df=4\n",
      "parameter F test:         F=1.6300  , p=0.1790  , df_denom=58, df_num=4\n",
      "\n",
      "Granger Causality\n",
      "number of lags (no zero) 5\n",
      "ssr based F test:         F=1.3501  , p=0.2574  , df_denom=55, df_num=5\n",
      "ssr based chi2 test:   chi2=8.1004  , p=0.1508  , df=5\n",
      "likelihood ratio test: chi2=7.6406  , p=0.1772  , df=5\n",
      "parameter F test:         F=1.3501  , p=0.2574  , df_denom=55, df_num=5\n",
      "\n",
      "Granger Causality\n",
      "number of lags (no zero) 6\n",
      "ssr based F test:         F=0.9537  , p=0.4655  , df_denom=52, df_num=6\n",
      "ssr based chi2 test:   chi2=7.1527  , p=0.3070  , df=6\n",
      "likelihood ratio test: chi2=6.7858  , p=0.3411  , df=6\n",
      "parameter F test:         F=0.9537  , p=0.4655  , df_denom=52, df_num=6\n",
      "\n",
      "Granger Causality\n",
      "number of lags (no zero) 7\n",
      "ssr based F test:         F=0.9976  , p=0.4443  , df_denom=49, df_num=7\n",
      "ssr based chi2 test:   chi2=9.1211  , p=0.2441  , df=7\n",
      "likelihood ratio test: chi2=8.5270  , p=0.2884  , df=7\n",
      "parameter F test:         F=0.9976  , p=0.4443  , df_denom=49, df_num=7\n",
      "\n",
      "Granger Causality\n",
      "number of lags (no zero) 8\n",
      "ssr based F test:         F=1.1264  , p=0.3640  , df_denom=46, df_num=8\n",
      "ssr based chi2 test:   chi2=12.3410 , p=0.1366  , df=8\n",
      "likelihood ratio test: chi2=11.2701 , p=0.1869  , df=8\n",
      "parameter F test:         F=1.1264  , p=0.3640  , df_denom=46, df_num=8\n",
      "\n",
      "Granger Causality\n",
      "number of lags (no zero) 9\n",
      "ssr based F test:         F=1.6674  , p=0.1269  , df_denom=43, df_num=9\n",
      "ssr based chi2 test:   chi2=21.6370 , p=0.0101  , df=9\n",
      "likelihood ratio test: chi2=18.5598 , p=0.0292  , df=9\n",
      "parameter F test:         F=1.6674  , p=0.1269  , df_denom=43, df_num=9\n",
      "\n",
      "Granger Causality\n",
      "number of lags (no zero) 10\n",
      "ssr based F test:         F=1.7705  , p=0.0983  , df_denom=40, df_num=10\n",
      "ssr based chi2 test:   chi2=26.9997 , p=0.0026  , df=10\n",
      "likelihood ratio test: chi2=22.3540 , p=0.0134  , df=10\n",
      "parameter F test:         F=1.7705  , p=0.0983  , df_denom=40, df_num=10\n"
     ]
    },
    {
     "data": {
      "text/plain": [
       "{1: ({'ssr_ftest': (1.790325169367873, 0.18541021967389879, 67.0, 1),\n",
       "   'ssr_chi2test': (1.8704889829216584, 0.1714190861993711, 1),\n",
       "   'lrtest': (1.8459345185258655, 0.17425697522402664, 1),\n",
       "   'params_ftest': (1.7903251693678814, 0.18541021967389879, 67.0, 1.0)},\n",
       "  [<statsmodels.regression.linear_model.RegressionResultsWrapper at 0x22521f44d48>,\n",
       "   <statsmodels.regression.linear_model.RegressionResultsWrapper at 0x22521f44608>,\n",
       "   array([[0., 1., 0.]])]),\n",
       " 2: ({'ssr_ftest': (2.6092594473172936, 0.08140395324641338, 64.0, 2),\n",
       "   'ssr_chi2test': (5.626215683277914, 0.060018175259542776, 2),\n",
       "   'lrtest': (5.40858967067436, 0.0669174950657455, 2),\n",
       "   'params_ftest': (2.6092594473172923, 0.08140395324641338, 64.0, 2.0)},\n",
       "  [<statsmodels.regression.linear_model.RegressionResultsWrapper at 0x22521f44188>,\n",
       "   <statsmodels.regression.linear_model.RegressionResultsWrapper at 0x22521f44b48>,\n",
       "   array([[0., 0., 1., 0., 0.],\n",
       "          [0., 0., 0., 1., 0.]])]),\n",
       " 3: ({'ssr_ftest': (1.8736970838221028, 0.1434754060479187, 61.0, 3),\n",
       "   'ssr_chi2test': (6.266134509831294, 0.09935619734582342, 3),\n",
       "   'lrtest': (5.994019711343583, 0.11190154190985702, 3),\n",
       "   'params_ftest': (1.8736970838221014, 0.1434754060479187, 61.0, 3.0)},\n",
       "  [<statsmodels.regression.linear_model.RegressionResultsWrapper at 0x22521d3e048>,\n",
       "   <statsmodels.regression.linear_model.RegressionResultsWrapper at 0x22521f28f88>,\n",
       "   array([[0., 0., 0., 1., 0., 0., 0.],\n",
       "          [0., 0., 0., 0., 1., 0., 0.],\n",
       "          [0., 0., 0., 0., 0., 1., 0.]])]),\n",
       " 4: ({'ssr_ftest': (1.6299919250954251, 0.17895142622898585, 58.0, 4),\n",
       "   'ssr_chi2test': (7.531686826302998, 0.11032012747477907, 4),\n",
       "   'lrtest': (7.137626720459906, 0.12879157903220864, 4),\n",
       "   'params_ftest': (1.6299919250954247, 0.17895142622898585, 58.0, 4.0)},\n",
       "  [<statsmodels.regression.linear_model.RegressionResultsWrapper at 0x22521f3f108>,\n",
       "   <statsmodels.regression.linear_model.RegressionResultsWrapper at 0x22521a45088>,\n",
       "   array([[0., 0., 0., 0., 1., 0., 0., 0., 0.],\n",
       "          [0., 0., 0., 0., 0., 1., 0., 0., 0.],\n",
       "          [0., 0., 0., 0., 0., 0., 1., 0., 0.],\n",
       "          [0., 0., 0., 0., 0., 0., 0., 1., 0.]])]),\n",
       " 5: ({'ssr_ftest': (1.350073632122194, 0.25738269015805537, 55.0, 5),\n",
       "   'ssr_chi2test': (8.100441792733164, 0.15078626830080832, 5),\n",
       "   'lrtest': (7.640605656617993, 0.17718653392925068, 5),\n",
       "   'params_ftest': (1.3500736321221936, 0.25738269015805537, 55.0, 5.0)},\n",
       "  [<statsmodels.regression.linear_model.RegressionResultsWrapper at 0x22521f3fac8>,\n",
       "   <statsmodels.regression.linear_model.RegressionResultsWrapper at 0x22521d57648>,\n",
       "   array([[0., 0., 0., 0., 0., 1., 0., 0., 0., 0., 0.],\n",
       "          [0., 0., 0., 0., 0., 0., 1., 0., 0., 0., 0.],\n",
       "          [0., 0., 0., 0., 0., 0., 0., 1., 0., 0., 0.],\n",
       "          [0., 0., 0., 0., 0., 0., 0., 0., 1., 0., 0.],\n",
       "          [0., 0., 0., 0., 0., 0., 0., 0., 0., 1., 0.]])]),\n",
       " 6: ({'ssr_ftest': (0.9536888544772646, 0.4655248534754055, 52.0, 6),\n",
       "   'ssr_chi2test': (7.152666408579485, 0.3069592885289045, 6),\n",
       "   'lrtest': (6.785803121580443, 0.3411111604436908, 6),\n",
       "   'params_ftest': (0.9536888544772646, 0.4655248534754055, 52.0, 6.0)},\n",
       "  [<statsmodels.regression.linear_model.RegressionResultsWrapper at 0x22521f3dfc8>,\n",
       "   <statsmodels.regression.linear_model.RegressionResultsWrapper at 0x22521f3d6c8>,\n",
       "   array([[0., 0., 0., 0., 0., 0., 1., 0., 0., 0., 0., 0., 0.],\n",
       "          [0., 0., 0., 0., 0., 0., 0., 1., 0., 0., 0., 0., 0.],\n",
       "          [0., 0., 0., 0., 0., 0., 0., 0., 1., 0., 0., 0., 0.],\n",
       "          [0., 0., 0., 0., 0., 0., 0., 0., 0., 1., 0., 0., 0.],\n",
       "          [0., 0., 0., 0., 0., 0., 0., 0., 0., 0., 1., 0., 0.],\n",
       "          [0., 0., 0., 0., 0., 0., 0., 0., 0., 0., 0., 1., 0.]])]),\n",
       " 7: ({'ssr_ftest': (0.9976186077401715, 0.4443462299860286, 49.0, 7),\n",
       "   'ssr_chi2test': (9.121084413624425, 0.24407923196603373, 7),\n",
       "   'lrtest': (8.526955153813432, 0.2884246580806464, 7),\n",
       "   'params_ftest': (0.9976186077401711, 0.4443462299860286, 49.0, 7.0)},\n",
       "  [<statsmodels.regression.linear_model.RegressionResultsWrapper at 0x22521a5f2c8>,\n",
       "   <statsmodels.regression.linear_model.RegressionResultsWrapper at 0x22521a5fa08>,\n",
       "   array([[0., 0., 0., 0., 0., 0., 0., 1., 0., 0., 0., 0., 0., 0., 0.],\n",
       "          [0., 0., 0., 0., 0., 0., 0., 0., 1., 0., 0., 0., 0., 0., 0.],\n",
       "          [0., 0., 0., 0., 0., 0., 0., 0., 0., 1., 0., 0., 0., 0., 0.],\n",
       "          [0., 0., 0., 0., 0., 0., 0., 0., 0., 0., 1., 0., 0., 0., 0.],\n",
       "          [0., 0., 0., 0., 0., 0., 0., 0., 0., 0., 0., 1., 0., 0., 0.],\n",
       "          [0., 0., 0., 0., 0., 0., 0., 0., 0., 0., 0., 0., 1., 0., 0.],\n",
       "          [0., 0., 0., 0., 0., 0., 0., 0., 0., 0., 0., 0., 0., 1., 0.]])]),\n",
       " 8: ({'ssr_ftest': (1.1263641237662443, 0.3639557983624214, 46.0, 8),\n",
       "   'ssr_chi2test': (12.341033008221459, 0.13662411105147512, 8),\n",
       "   'lrtest': (11.270081784999888, 0.18686055068282378, 8),\n",
       "   'params_ftest': (1.1263641237662463, 0.3639557983624194, 46.0, 8.0)},\n",
       "  [<statsmodels.regression.linear_model.RegressionResultsWrapper at 0x22521dc4488>,\n",
       "   <statsmodels.regression.linear_model.RegressionResultsWrapper at 0x22521dc47c8>,\n",
       "   array([[0., 0., 0., 0., 0., 0., 0., 0., 1., 0., 0., 0., 0., 0., 0., 0.,\n",
       "           0.],\n",
       "          [0., 0., 0., 0., 0., 0., 0., 0., 0., 1., 0., 0., 0., 0., 0., 0.,\n",
       "           0.],\n",
       "          [0., 0., 0., 0., 0., 0., 0., 0., 0., 0., 1., 0., 0., 0., 0., 0.,\n",
       "           0.],\n",
       "          [0., 0., 0., 0., 0., 0., 0., 0., 0., 0., 0., 1., 0., 0., 0., 0.,\n",
       "           0.],\n",
       "          [0., 0., 0., 0., 0., 0., 0., 0., 0., 0., 0., 0., 1., 0., 0., 0.,\n",
       "           0.],\n",
       "          [0., 0., 0., 0., 0., 0., 0., 0., 0., 0., 0., 0., 0., 1., 0., 0.,\n",
       "           0.],\n",
       "          [0., 0., 0., 0., 0., 0., 0., 0., 0., 0., 0., 0., 0., 0., 1., 0.,\n",
       "           0.],\n",
       "          [0., 0., 0., 0., 0., 0., 0., 0., 0., 0., 0., 0., 0., 0., 0., 1.,\n",
       "           0.]])]),\n",
       " 9: ({'ssr_ftest': (1.667370443489992, 0.126912220231805, 43.0, 9),\n",
       "   'ssr_chi2test': (21.63703970854455, 0.010103295715378036, 9),\n",
       "   'lrtest': (18.559829929598237, 0.029206847463059463, 9),\n",
       "   'params_ftest': (1.6673704434899927, 0.126912220231805, 43.0, 9.0)},\n",
       "  [<statsmodels.regression.linear_model.RegressionResultsWrapper at 0x22521d6d148>,\n",
       "   <statsmodels.regression.linear_model.RegressionResultsWrapper at 0x22521d6d9c8>,\n",
       "   array([[0., 0., 0., 0., 0., 0., 0., 0., 0., 1., 0., 0., 0., 0., 0., 0.,\n",
       "           0., 0., 0.],\n",
       "          [0., 0., 0., 0., 0., 0., 0., 0., 0., 0., 1., 0., 0., 0., 0., 0.,\n",
       "           0., 0., 0.],\n",
       "          [0., 0., 0., 0., 0., 0., 0., 0., 0., 0., 0., 1., 0., 0., 0., 0.,\n",
       "           0., 0., 0.],\n",
       "          [0., 0., 0., 0., 0., 0., 0., 0., 0., 0., 0., 0., 1., 0., 0., 0.,\n",
       "           0., 0., 0.],\n",
       "          [0., 0., 0., 0., 0., 0., 0., 0., 0., 0., 0., 0., 0., 1., 0., 0.,\n",
       "           0., 0., 0.],\n",
       "          [0., 0., 0., 0., 0., 0., 0., 0., 0., 0., 0., 0., 0., 0., 1., 0.,\n",
       "           0., 0., 0.],\n",
       "          [0., 0., 0., 0., 0., 0., 0., 0., 0., 0., 0., 0., 0., 0., 0., 1.,\n",
       "           0., 0., 0.],\n",
       "          [0., 0., 0., 0., 0., 0., 0., 0., 0., 0., 0., 0., 0., 0., 0., 0.,\n",
       "           1., 0., 0.],\n",
       "          [0., 0., 0., 0., 0., 0., 0., 0., 0., 0., 0., 0., 0., 0., 0., 0.,\n",
       "           0., 1., 0.]])]),\n",
       " 10: ({'ssr_ftest': (1.770473408044721, 0.09831893165332395, 40.0, 10),\n",
       "   'ssr_chi2test': (26.999719472681996, 0.0026046064292499734, 10),\n",
       "   'lrtest': (22.35404551185235, 0.013399127878491008, 10),\n",
       "   'params_ftest': (1.770473408044721, 0.09831893165332395, 40.0, 10.0)},\n",
       "  [<statsmodels.regression.linear_model.RegressionResultsWrapper at 0x22521f2d608>,\n",
       "   <statsmodels.regression.linear_model.RegressionResultsWrapper at 0x22521f2dd08>,\n",
       "   array([[0., 0., 0., 0., 0., 0., 0., 0., 0., 0., 1., 0., 0., 0., 0., 0.,\n",
       "           0., 0., 0., 0., 0.],\n",
       "          [0., 0., 0., 0., 0., 0., 0., 0., 0., 0., 0., 1., 0., 0., 0., 0.,\n",
       "           0., 0., 0., 0., 0.],\n",
       "          [0., 0., 0., 0., 0., 0., 0., 0., 0., 0., 0., 0., 1., 0., 0., 0.,\n",
       "           0., 0., 0., 0., 0.],\n",
       "          [0., 0., 0., 0., 0., 0., 0., 0., 0., 0., 0., 0., 0., 1., 0., 0.,\n",
       "           0., 0., 0., 0., 0.],\n",
       "          [0., 0., 0., 0., 0., 0., 0., 0., 0., 0., 0., 0., 0., 0., 1., 0.,\n",
       "           0., 0., 0., 0., 0.],\n",
       "          [0., 0., 0., 0., 0., 0., 0., 0., 0., 0., 0., 0., 0., 0., 0., 1.,\n",
       "           0., 0., 0., 0., 0.],\n",
       "          [0., 0., 0., 0., 0., 0., 0., 0., 0., 0., 0., 0., 0., 0., 0., 0.,\n",
       "           1., 0., 0., 0., 0.],\n",
       "          [0., 0., 0., 0., 0., 0., 0., 0., 0., 0., 0., 0., 0., 0., 0., 0.,\n",
       "           0., 1., 0., 0., 0.],\n",
       "          [0., 0., 0., 0., 0., 0., 0., 0., 0., 0., 0., 0., 0., 0., 0., 0.,\n",
       "           0., 0., 1., 0., 0.],\n",
       "          [0., 0., 0., 0., 0., 0., 0., 0., 0., 0., 0., 0., 0., 0., 0., 0.,\n",
       "           0., 0., 0., 1., 0.]])])}"
      ]
     },
     "execution_count": 78,
     "metadata": {},
     "output_type": "execute_result"
    }
   ],
   "source": [
    "grangercausalitytests(past_diff[[\"Inflation\", \"Unemployment\"]], maxlag= 10)"
   ]
  },
  {
   "cell_type": "code",
   "execution_count": 79,
   "metadata": {},
   "outputs": [
    {
     "name": "stdout",
     "output_type": "stream",
     "text": [
      "\n",
      "Granger Causality\n",
      "number of lags (no zero) 1\n",
      "ssr based F test:         F=0.4236  , p=0.5174  , df_denom=67, df_num=1\n",
      "ssr based chi2 test:   chi2=0.4425  , p=0.5059  , df=1\n",
      "likelihood ratio test: chi2=0.4411  , p=0.5066  , df=1\n",
      "parameter F test:         F=0.4236  , p=0.5174  , df_denom=67, df_num=1\n",
      "\n",
      "Granger Causality\n",
      "number of lags (no zero) 2\n",
      "ssr based F test:         F=0.8032  , p=0.4523  , df_denom=64, df_num=2\n",
      "ssr based chi2 test:   chi2=1.7320  , p=0.4206  , df=2\n",
      "likelihood ratio test: chi2=1.7106  , p=0.4252  , df=2\n",
      "parameter F test:         F=0.8032  , p=0.4523  , df_denom=64, df_num=2\n",
      "\n",
      "Granger Causality\n",
      "number of lags (no zero) 3\n",
      "ssr based F test:         F=1.1041  , p=0.3544  , df_denom=61, df_num=3\n",
      "ssr based chi2 test:   chi2=3.6925  , p=0.2966  , df=3\n",
      "likelihood ratio test: chi2=3.5957  , p=0.3086  , df=3\n",
      "parameter F test:         F=1.1041  , p=0.3544  , df_denom=61, df_num=3\n",
      "\n",
      "Granger Causality\n",
      "number of lags (no zero) 4\n",
      "ssr based F test:         F=2.8719  , p=0.0307  , df_denom=58, df_num=4\n",
      "ssr based chi2 test:   chi2=13.2702 , p=0.0100  , df=4\n",
      "likelihood ratio test: chi2=12.1073 , p=0.0166  , df=4\n",
      "parameter F test:         F=2.8719  , p=0.0307  , df_denom=58, df_num=4\n",
      "\n",
      "Granger Causality\n",
      "number of lags (no zero) 5\n",
      "ssr based F test:         F=2.1803  , p=0.0695  , df_denom=55, df_num=5\n",
      "ssr based chi2 test:   chi2=13.0817 , p=0.0226  , df=5\n",
      "likelihood ratio test: chi2=11.9346 , p=0.0357  , df=5\n",
      "parameter F test:         F=2.1803  , p=0.0695  , df_denom=55, df_num=5\n",
      "\n",
      "Granger Causality\n",
      "number of lags (no zero) 6\n",
      "ssr based F test:         F=2.5936  , p=0.0283  , df_denom=52, df_num=6\n",
      "ssr based chi2 test:   chi2=19.4518 , p=0.0035  , df=6\n",
      "likelihood ratio test: chi2=17.0166 , p=0.0092  , df=6\n",
      "parameter F test:         F=2.5936  , p=0.0283  , df_denom=52, df_num=6\n",
      "\n",
      "Granger Causality\n",
      "number of lags (no zero) 7\n",
      "ssr based F test:         F=2.5188  , p=0.0270  , df_denom=49, df_num=7\n",
      "ssr based chi2 test:   chi2=23.0292 , p=0.0017  , df=7\n",
      "likelihood ratio test: chi2=19.6711 , p=0.0063  , df=7\n",
      "parameter F test:         F=2.5188  , p=0.0270  , df_denom=49, df_num=7\n",
      "\n",
      "Granger Causality\n",
      "number of lags (no zero) 8\n",
      "ssr based F test:         F=2.3878  , p=0.0304  , df_denom=46, df_num=8\n",
      "ssr based chi2 test:   chi2=26.1619 , p=0.0010  , df=8\n",
      "likelihood ratio test: chi2=21.8811 , p=0.0051  , df=8\n",
      "parameter F test:         F=2.3878  , p=0.0304  , df_denom=46, df_num=8\n",
      "\n",
      "Granger Causality\n",
      "number of lags (no zero) 9\n",
      "ssr based F test:         F=2.3550  , p=0.0292  , df_denom=43, df_num=9\n",
      "ssr based chi2 test:   chi2=30.5596 , p=0.0004  , df=9\n",
      "likelihood ratio test: chi2=24.8446 , p=0.0031  , df=9\n",
      "parameter F test:         F=2.3550  , p=0.0292  , df_denom=43, df_num=9\n",
      "\n",
      "Granger Causality\n",
      "number of lags (no zero) 10\n",
      "ssr based F test:         F=2.0239  , p=0.0563  , df_denom=40, df_num=10\n",
      "ssr based chi2 test:   chi2=30.8644 , p=0.0006  , df=10\n",
      "likelihood ratio test: chi2=24.9758 , p=0.0054  , df=10\n",
      "parameter F test:         F=2.0239  , p=0.0563  , df_denom=40, df_num=10\n"
     ]
    },
    {
     "data": {
      "text/plain": [
       "{1: ({'ssr_ftest': (0.42355922910714106, 0.517392176184782, 67.0, 1),\n",
       "   'ssr_chi2test': (0.4425245677238787, 0.5059064642398814, 1),\n",
       "   'lrtest': (0.441131663684331, 0.5065767546661684, 1),\n",
       "   'params_ftest': (0.4235592291071466, 0.517392176184782, 67.0, 1.0)},\n",
       "  [<statsmodels.regression.linear_model.RegressionResultsWrapper at 0x22521db3ec8>,\n",
       "   <statsmodels.regression.linear_model.RegressionResultsWrapper at 0x22521d6f2c8>,\n",
       "   array([[0., 1., 0.]])]),\n",
       " 2: ({'ssr_ftest': (0.8032469261534685, 0.4523354723639389, 64.0, 2),\n",
       "   'ssr_chi2test': (1.7320011845184164, 0.4206304624079742, 2),\n",
       "   'lrtest': (1.7106203546008771, 0.4251512983462662, 2),\n",
       "   'params_ftest': (0.8032469261534683, 0.4523354723639389, 64.0, 2.0)},\n",
       "  [<statsmodels.regression.linear_model.RegressionResultsWrapper at 0x22521a4fd08>,\n",
       "   <statsmodels.regression.linear_model.RegressionResultsWrapper at 0x22521f44708>,\n",
       "   array([[0., 0., 1., 0., 0.],\n",
       "          [0., 0., 0., 1., 0.]])]),\n",
       " 3: ({'ssr_ftest': (1.1041227078829872, 0.35442081916787693, 61.0, 3),\n",
       "   'ssr_chi2test': (3.6924759411168746, 0.29664313818909427, 3),\n",
       "   'lrtest': (3.5957107227076506, 0.3085592672951959, 3),\n",
       "   'params_ftest': (1.1041227078829916, 0.35442081916787477, 61.0, 3.0)},\n",
       "  [<statsmodels.regression.linear_model.RegressionResultsWrapper at 0x22521f3fdc8>,\n",
       "   <statsmodels.regression.linear_model.RegressionResultsWrapper at 0x22521a5ba88>,\n",
       "   array([[0., 0., 0., 1., 0., 0., 0.],\n",
       "          [0., 0., 0., 0., 1., 0., 0.],\n",
       "          [0., 0., 0., 0., 0., 1., 0.]])]),\n",
       " 4: ({'ssr_ftest': (2.871902828430147, 0.030696910687671664, 58.0, 4),\n",
       "   'ssr_chi2test': (13.270171689987578, 0.010028425556373012, 4),\n",
       "   'lrtest': (12.107266600970007, 0.016571176394118488, 4),\n",
       "   'params_ftest': (2.8719028284301444, 0.03069691068767191, 58.0, 4.0)},\n",
       "  [<statsmodels.regression.linear_model.RegressionResultsWrapper at 0x22521f47508>,\n",
       "   <statsmodels.regression.linear_model.RegressionResultsWrapper at 0x22521f47648>,\n",
       "   array([[0., 0., 0., 0., 1., 0., 0., 0., 0.],\n",
       "          [0., 0., 0., 0., 0., 1., 0., 0., 0.],\n",
       "          [0., 0., 0., 0., 0., 0., 1., 0., 0.],\n",
       "          [0., 0., 0., 0., 0., 0., 0., 1., 0.]])]),\n",
       " 5: ({'ssr_ftest': (2.180291262953558, 0.06950270921485169, 55.0, 5),\n",
       "   'ssr_chi2test': (13.08174757772135, 0.02262463008730361, 5),\n",
       "   'lrtest': (11.934605422753407, 0.03569490783081199, 5),\n",
       "   'params_ftest': (2.1802912629535562, 0.06950270921485169, 55.0, 5.0)},\n",
       "  [<statsmodels.regression.linear_model.RegressionResultsWrapper at 0x22521d8da48>,\n",
       "   <statsmodels.regression.linear_model.RegressionResultsWrapper at 0x22521f2dc88>,\n",
       "   array([[0., 0., 0., 0., 0., 1., 0., 0., 0., 0., 0.],\n",
       "          [0., 0., 0., 0., 0., 0., 1., 0., 0., 0., 0.],\n",
       "          [0., 0., 0., 0., 0., 0., 0., 1., 0., 0., 0.],\n",
       "          [0., 0., 0., 0., 0., 0., 0., 0., 1., 0., 0.],\n",
       "          [0., 0., 0., 0., 0., 0., 0., 0., 0., 1., 0.]])]),\n",
       " 6: ({'ssr_ftest': (2.593570416791528, 0.02833509764160607, 52.0, 6),\n",
       "   'ssr_chi2test': (19.45177812593646, 0.003464937047402364, 6),\n",
       "   'lrtest': (17.016572852876948, 0.009222529247127772, 6),\n",
       "   'params_ftest': (2.593570416791525, 0.028335097641606327, 52.0, 6.0)},\n",
       "  [<statsmodels.regression.linear_model.RegressionResultsWrapper at 0x22521a49b88>,\n",
       "   <statsmodels.regression.linear_model.RegressionResultsWrapper at 0x22521a497c8>,\n",
       "   array([[0., 0., 0., 0., 0., 0., 1., 0., 0., 0., 0., 0., 0.],\n",
       "          [0., 0., 0., 0., 0., 0., 0., 1., 0., 0., 0., 0., 0.],\n",
       "          [0., 0., 0., 0., 0., 0., 0., 0., 1., 0., 0., 0., 0.],\n",
       "          [0., 0., 0., 0., 0., 0., 0., 0., 0., 1., 0., 0., 0.],\n",
       "          [0., 0., 0., 0., 0., 0., 0., 0., 0., 0., 1., 0., 0.],\n",
       "          [0., 0., 0., 0., 0., 0., 0., 0., 0., 0., 0., 1., 0.]])]),\n",
       " 7: ({'ssr_ftest': (2.518823302395562, 0.02702493796972754, 49.0, 7),\n",
       "   'ssr_chi2test': (23.029241621902283, 0.0016847347021410881, 7),\n",
       "   'lrtest': (19.671109722814492, 0.006325655527129535, 7),\n",
       "   'params_ftest': (2.518823302395561, 0.027024937969727676, 49.0, 7.0)},\n",
       "  [<statsmodels.regression.linear_model.RegressionResultsWrapper at 0x22521a49348>,\n",
       "   <statsmodels.regression.linear_model.RegressionResultsWrapper at 0x22521a494c8>,\n",
       "   array([[0., 0., 0., 0., 0., 0., 0., 1., 0., 0., 0., 0., 0., 0., 0.],\n",
       "          [0., 0., 0., 0., 0., 0., 0., 0., 1., 0., 0., 0., 0., 0., 0.],\n",
       "          [0., 0., 0., 0., 0., 0., 0., 0., 0., 1., 0., 0., 0., 0., 0.],\n",
       "          [0., 0., 0., 0., 0., 0., 0., 0., 0., 0., 1., 0., 0., 0., 0.],\n",
       "          [0., 0., 0., 0., 0., 0., 0., 0., 0., 0., 0., 1., 0., 0., 0.],\n",
       "          [0., 0., 0., 0., 0., 0., 0., 0., 0., 0., 0., 0., 1., 0., 0.],\n",
       "          [0., 0., 0., 0., 0., 0., 0., 0., 0., 0., 0., 0., 0., 1., 0.]])]),\n",
       " 8: ({'ssr_ftest': (2.3877903682693935, 0.030414843432710864, 46.0, 8),\n",
       "   'ssr_chi2test': (26.161877078429878, 0.0009853543741359598, 8),\n",
       "   'lrtest': (21.881086594003506, 0.00514098279110768, 8),\n",
       "   'params_ftest': (2.38779036826939, 0.0304148434327111, 46.0, 8.0)},\n",
       "  [<statsmodels.regression.linear_model.RegressionResultsWrapper at 0x22521a0b188>,\n",
       "   <statsmodels.regression.linear_model.RegressionResultsWrapper at 0x22521a0bf08>,\n",
       "   array([[0., 0., 0., 0., 0., 0., 0., 0., 1., 0., 0., 0., 0., 0., 0., 0.,\n",
       "           0.],\n",
       "          [0., 0., 0., 0., 0., 0., 0., 0., 0., 1., 0., 0., 0., 0., 0., 0.,\n",
       "           0.],\n",
       "          [0., 0., 0., 0., 0., 0., 0., 0., 0., 0., 1., 0., 0., 0., 0., 0.,\n",
       "           0.],\n",
       "          [0., 0., 0., 0., 0., 0., 0., 0., 0., 0., 0., 1., 0., 0., 0., 0.,\n",
       "           0.],\n",
       "          [0., 0., 0., 0., 0., 0., 0., 0., 0., 0., 0., 0., 1., 0., 0., 0.,\n",
       "           0.],\n",
       "          [0., 0., 0., 0., 0., 0., 0., 0., 0., 0., 0., 0., 0., 1., 0., 0.,\n",
       "           0.],\n",
       "          [0., 0., 0., 0., 0., 0., 0., 0., 0., 0., 0., 0., 0., 0., 1., 0.,\n",
       "           0.],\n",
       "          [0., 0., 0., 0., 0., 0., 0., 0., 0., 0., 0., 0., 0., 0., 0., 1.,\n",
       "           0.]])]),\n",
       " 9: ({'ssr_ftest': (2.3549526819753335, 0.02921511046964596, 43.0, 9),\n",
       "   'ssr_chi2test': (30.559618524238047, 0.0003521677559764897, 9),\n",
       "   'lrtest': (24.844551739458495, 0.0031480342073958605, 9),\n",
       "   'params_ftest': (2.3549526819753357, 0.029215110469645846, 43.0, 9.0)},\n",
       "  [<statsmodels.regression.linear_model.RegressionResultsWrapper at 0x22521a26988>,\n",
       "   <statsmodels.regression.linear_model.RegressionResultsWrapper at 0x22521a26f88>,\n",
       "   array([[0., 0., 0., 0., 0., 0., 0., 0., 0., 1., 0., 0., 0., 0., 0., 0.,\n",
       "           0., 0., 0.],\n",
       "          [0., 0., 0., 0., 0., 0., 0., 0., 0., 0., 1., 0., 0., 0., 0., 0.,\n",
       "           0., 0., 0.],\n",
       "          [0., 0., 0., 0., 0., 0., 0., 0., 0., 0., 0., 1., 0., 0., 0., 0.,\n",
       "           0., 0., 0.],\n",
       "          [0., 0., 0., 0., 0., 0., 0., 0., 0., 0., 0., 0., 1., 0., 0., 0.,\n",
       "           0., 0., 0.],\n",
       "          [0., 0., 0., 0., 0., 0., 0., 0., 0., 0., 0., 0., 0., 1., 0., 0.,\n",
       "           0., 0., 0.],\n",
       "          [0., 0., 0., 0., 0., 0., 0., 0., 0., 0., 0., 0., 0., 0., 1., 0.,\n",
       "           0., 0., 0.],\n",
       "          [0., 0., 0., 0., 0., 0., 0., 0., 0., 0., 0., 0., 0., 0., 0., 1.,\n",
       "           0., 0., 0.],\n",
       "          [0., 0., 0., 0., 0., 0., 0., 0., 0., 0., 0., 0., 0., 0., 0., 0.,\n",
       "           1., 0., 0.],\n",
       "          [0., 0., 0., 0., 0., 0., 0., 0., 0., 0., 0., 0., 0., 0., 0., 0.,\n",
       "           0., 1., 0.]])]),\n",
       " 10: ({'ssr_ftest': (2.023892827075112, 0.05628924463538607, 40.0, 10),\n",
       "   'ssr_chi2test': (30.864365612895458, 0.0006177608616064917, 10),\n",
       "   'lrtest': (24.975799631984415, 0.005391565857845164, 10),\n",
       "   'params_ftest': (2.0238928270751138, 0.056289244635385864, 40.0, 10.0)},\n",
       "  [<statsmodels.regression.linear_model.RegressionResultsWrapper at 0x22521d71d08>,\n",
       "   <statsmodels.regression.linear_model.RegressionResultsWrapper at 0x22521d71a08>,\n",
       "   array([[0., 0., 0., 0., 0., 0., 0., 0., 0., 0., 1., 0., 0., 0., 0., 0.,\n",
       "           0., 0., 0., 0., 0.],\n",
       "          [0., 0., 0., 0., 0., 0., 0., 0., 0., 0., 0., 1., 0., 0., 0., 0.,\n",
       "           0., 0., 0., 0., 0.],\n",
       "          [0., 0., 0., 0., 0., 0., 0., 0., 0., 0., 0., 0., 1., 0., 0., 0.,\n",
       "           0., 0., 0., 0., 0.],\n",
       "          [0., 0., 0., 0., 0., 0., 0., 0., 0., 0., 0., 0., 0., 1., 0., 0.,\n",
       "           0., 0., 0., 0., 0.],\n",
       "          [0., 0., 0., 0., 0., 0., 0., 0., 0., 0., 0., 0., 0., 0., 1., 0.,\n",
       "           0., 0., 0., 0., 0.],\n",
       "          [0., 0., 0., 0., 0., 0., 0., 0., 0., 0., 0., 0., 0., 0., 0., 1.,\n",
       "           0., 0., 0., 0., 0.],\n",
       "          [0., 0., 0., 0., 0., 0., 0., 0., 0., 0., 0., 0., 0., 0., 0., 0.,\n",
       "           1., 0., 0., 0., 0.],\n",
       "          [0., 0., 0., 0., 0., 0., 0., 0., 0., 0., 0., 0., 0., 0., 0., 0.,\n",
       "           0., 1., 0., 0., 0.],\n",
       "          [0., 0., 0., 0., 0., 0., 0., 0., 0., 0., 0., 0., 0., 0., 0., 0.,\n",
       "           0., 0., 1., 0., 0.],\n",
       "          [0., 0., 0., 0., 0., 0., 0., 0., 0., 0., 0., 0., 0., 0., 0., 0.,\n",
       "           0., 0., 0., 1., 0.]])])}"
      ]
     },
     "execution_count": 79,
     "metadata": {},
     "output_type": "execute_result"
    }
   ],
   "source": [
    "grangercausalitytests(past_diff[[\"Unemployment\", \"Inflation\"]], maxlag= 10)"
   ]
  },
  {
   "cell_type": "code",
   "execution_count": 60,
   "metadata": {},
   "outputs": [
    {
     "data": {
      "text/html": [
       "<div>\n",
       "<style scoped>\n",
       "    .dataframe tbody tr th:only-of-type {\n",
       "        vertical-align: middle;\n",
       "    }\n",
       "\n",
       "    .dataframe tbody tr th {\n",
       "        vertical-align: top;\n",
       "    }\n",
       "\n",
       "    .dataframe thead th {\n",
       "        text-align: right;\n",
       "    }\n",
       "</style>\n",
       "<table border=\"1\" class=\"dataframe\">\n",
       "  <thead>\n",
       "    <tr style=\"text-align: right;\">\n",
       "      <th></th>\n",
       "      <th>Inflation_x</th>\n",
       "      <th>Unemployment_x</th>\n",
       "    </tr>\n",
       "  </thead>\n",
       "  <tbody>\n",
       "    <tr>\n",
       "      <th>Inflation_y</th>\n",
       "      <td>1.0000</td>\n",
       "      <td>0.0026</td>\n",
       "    </tr>\n",
       "    <tr>\n",
       "      <th>Unemployment_y</th>\n",
       "      <td>0.0001</td>\n",
       "      <td>1.0000</td>\n",
       "    </tr>\n",
       "  </tbody>\n",
       "</table>\n",
       "</div>"
      ],
      "text/plain": [
       "                Inflation_x  Unemployment_x\n",
       "Inflation_y          1.0000          0.0026\n",
       "Unemployment_y       0.0001          1.0000"
      ]
     },
     "execution_count": 60,
     "metadata": {},
     "output_type": "execute_result"
    }
   ],
   "source": [
    "grangers_causation_matrix(past_diff, variables = past_diff.columns)"
   ]
  },
  {
   "cell_type": "markdown",
   "metadata": {},
   "source": [
    "### Observation for past time periods: Inflation Granger-Causes Unemployment for lag orders 9-10. Unemployment Granger-Causes Unemployment for lag orders 4-10."
   ]
  },
  {
   "cell_type": "markdown",
   "metadata": {},
   "source": [
    "## Testing curent time periods"
   ]
  },
  {
   "cell_type": "code",
   "execution_count": 80,
   "metadata": {},
   "outputs": [
    {
     "name": "stdout",
     "output_type": "stream",
     "text": [
      "\n",
      "Granger Causality\n",
      "number of lags (no zero) 1\n",
      "ssr based F test:         F=1.1387  , p=0.2897  , df_denom=67, df_num=1\n",
      "ssr based chi2 test:   chi2=1.1897  , p=0.2754  , df=1\n",
      "likelihood ratio test: chi2=1.1797  , p=0.2774  , df=1\n",
      "parameter F test:         F=1.1387  , p=0.2897  , df_denom=67, df_num=1\n",
      "\n",
      "Granger Causality\n",
      "number of lags (no zero) 2\n",
      "ssr based F test:         F=0.8794  , p=0.4200  , df_denom=64, df_num=2\n",
      "ssr based chi2 test:   chi2=1.8961  , p=0.3875  , df=2\n",
      "likelihood ratio test: chi2=1.8705  , p=0.3925  , df=2\n",
      "parameter F test:         F=0.8794  , p=0.4200  , df_denom=64, df_num=2\n",
      "\n",
      "Granger Causality\n",
      "number of lags (no zero) 3\n",
      "ssr based F test:         F=0.7184  , p=0.5448  , df_denom=61, df_num=3\n",
      "ssr based chi2 test:   chi2=2.4026  , p=0.4932  , df=3\n",
      "likelihood ratio test: chi2=2.3611  , p=0.5009  , df=3\n",
      "parameter F test:         F=0.7184  , p=0.5448  , df_denom=61, df_num=3\n",
      "\n",
      "Granger Causality\n",
      "number of lags (no zero) 4\n",
      "ssr based F test:         F=0.7262  , p=0.5776  , df_denom=58, df_num=4\n",
      "ssr based chi2 test:   chi2=3.3557  , p=0.5002  , df=4\n",
      "likelihood ratio test: chi2=3.2744  , p=0.5130  , df=4\n",
      "parameter F test:         F=0.7262  , p=0.5776  , df_denom=58, df_num=4\n",
      "\n",
      "Granger Causality\n",
      "number of lags (no zero) 5\n",
      "ssr based F test:         F=0.5646  , p=0.7266  , df_denom=55, df_num=5\n",
      "ssr based chi2 test:   chi2=3.3876  , p=0.6405  , df=5\n",
      "likelihood ratio test: chi2=3.3036  , p=0.6533  , df=5\n",
      "parameter F test:         F=0.5646  , p=0.7266  , df_denom=55, df_num=5\n",
      "\n",
      "Granger Causality\n",
      "number of lags (no zero) 6\n",
      "ssr based F test:         F=0.5254  , p=0.7864  , df_denom=52, df_num=6\n",
      "ssr based chi2 test:   chi2=3.9407  , p=0.6847  , df=6\n",
      "likelihood ratio test: chi2=3.8259  , p=0.7002  , df=6\n",
      "parameter F test:         F=0.5254  , p=0.7864  , df_denom=52, df_num=6\n",
      "\n",
      "Granger Causality\n",
      "number of lags (no zero) 7\n",
      "ssr based F test:         F=0.4078  , p=0.8929  , df_denom=49, df_num=7\n",
      "ssr based chi2 test:   chi2=3.7285  , p=0.8105  , df=7\n",
      "likelihood ratio test: chi2=3.6239  , p=0.8219  , df=7\n",
      "parameter F test:         F=0.4078  , p=0.8929  , df_denom=49, df_num=7\n",
      "\n",
      "Granger Causality\n",
      "number of lags (no zero) 8\n",
      "ssr based F test:         F=0.3686  , p=0.9318  , df_denom=46, df_num=8\n",
      "ssr based chi2 test:   chi2=4.0381  , p=0.8537  , df=8\n",
      "likelihood ratio test: chi2=3.9139  , p=0.8648  , df=8\n",
      "parameter F test:         F=0.3686  , p=0.9318  , df_denom=46, df_num=8\n",
      "\n",
      "Granger Causality\n",
      "number of lags (no zero) 9\n",
      "ssr based F test:         F=0.4834  , p=0.8777  , df_denom=43, df_num=9\n",
      "ssr based chi2 test:   chi2=6.2724  , p=0.7124  , df=9\n",
      "likelihood ratio test: chi2=5.9750  , p=0.7424  , df=9\n",
      "parameter F test:         F=0.4834  , p=0.8777  , df_denom=43, df_num=9\n",
      "\n",
      "Granger Causality\n",
      "number of lags (no zero) 10\n",
      "ssr based F test:         F=0.4057  , p=0.9359  , df_denom=40, df_num=10\n",
      "ssr based chi2 test:   chi2=6.1876  , p=0.7993  , df=10\n",
      "likelihood ratio test: chi2=5.8935  , p=0.8241  , df=10\n",
      "parameter F test:         F=0.4057  , p=0.9359  , df_denom=40, df_num=10\n"
     ]
    },
    {
     "data": {
      "text/plain": [
       "{1: ({'ssr_ftest': (1.1387361036982333, 0.2897496485705493, 67.0, 1),\n",
       "   'ssr_chi2test': (1.1897242874459155, 0.27538517782654304, 1),\n",
       "   'lrtest': (1.1797270903349784, 0.2774115615352776, 1),\n",
       "   'params_ftest': (1.1387361036982342, 0.2897496485705493, 67.0, 1.0)},\n",
       "  [<statsmodels.regression.linear_model.RegressionResultsWrapper at 0x22521a2e408>,\n",
       "   <statsmodels.regression.linear_model.RegressionResultsWrapper at 0x22521a2e848>,\n",
       "   array([[0., 1., 0.]])]),\n",
       " 2: ({'ssr_ftest': (0.8793658266619375, 0.4200001753760172, 64.0, 2),\n",
       "   'ssr_chi2test': (1.8961325637398028, 0.3874895951132431, 2),\n",
       "   'lrtest': (1.8705471987455553, 0.39247846897743244, 2),\n",
       "   'params_ftest': (0.8793658266619317, 0.4200001753760203, 64.0, 2.0)},\n",
       "  [<statsmodels.regression.linear_model.RegressionResultsWrapper at 0x22521a5f488>,\n",
       "   <statsmodels.regression.linear_model.RegressionResultsWrapper at 0x22521a267c8>,\n",
       "   array([[0., 0., 1., 0., 0.],\n",
       "          [0., 0., 0., 1., 0.]])]),\n",
       " 3: ({'ssr_ftest': (0.7184203762901117, 0.5448137975508573, 61.0, 3),\n",
       "   'ssr_chi2test': (2.40258617644562, 0.4931533883452388, 3),\n",
       "   'lrtest': (2.3611159086343605, 0.5009139239951417, 3),\n",
       "   'params_ftest': (0.7184203762901059, 0.5448137975508613, 61.0, 3.0)},\n",
       "  [<statsmodels.regression.linear_model.RegressionResultsWrapper at 0x22521a2e288>,\n",
       "   <statsmodels.regression.linear_model.RegressionResultsWrapper at 0x22521d868c8>,\n",
       "   array([[0., 0., 0., 1., 0., 0., 0.],\n",
       "          [0., 0., 0., 0., 1., 0., 0.],\n",
       "          [0., 0., 0., 0., 0., 1., 0.]])]),\n",
       " 4: ({'ssr_ftest': (0.7262310071897964, 0.5776301586132793, 58.0, 4),\n",
       "   'ssr_chi2test': (3.3556881021873344, 0.5001575956769231, 4),\n",
       "   'lrtest': (3.2743580205384717, 0.5130052391266713, 4),\n",
       "   'params_ftest': (0.726231007189798, 0.5776301586132786, 58.0, 4.0)},\n",
       "  [<statsmodels.regression.linear_model.RegressionResultsWrapper at 0x22521a0fd48>,\n",
       "   <statsmodels.regression.linear_model.RegressionResultsWrapper at 0x22521a0f608>,\n",
       "   array([[0., 0., 0., 0., 1., 0., 0., 0., 0.],\n",
       "          [0., 0., 0., 0., 0., 1., 0., 0., 0.],\n",
       "          [0., 0., 0., 0., 0., 0., 1., 0., 0.],\n",
       "          [0., 0., 0., 0., 0., 0., 0., 1., 0.]])]),\n",
       " 5: ({'ssr_ftest': (0.5646045754602509, 0.7266434463995188, 55.0, 5),\n",
       "   'ssr_chi2test': (3.387627452761505, 0.6404549705948026, 5),\n",
       "   'lrtest': (3.3035528337325673, 0.6532977893355313, 5),\n",
       "   'params_ftest': (0.5646045754602576, 0.726643446399515, 55.0, 5.0)},\n",
       "  [<statsmodels.regression.linear_model.RegressionResultsWrapper at 0x22521a1d708>,\n",
       "   <statsmodels.regression.linear_model.RegressionResultsWrapper at 0x22521a1df48>,\n",
       "   array([[0., 0., 0., 0., 0., 1., 0., 0., 0., 0., 0.],\n",
       "          [0., 0., 0., 0., 0., 0., 1., 0., 0., 0., 0.],\n",
       "          [0., 0., 0., 0., 0., 0., 0., 1., 0., 0., 0.],\n",
       "          [0., 0., 0., 0., 0., 0., 0., 0., 1., 0., 0.],\n",
       "          [0., 0., 0., 0., 0., 0., 0., 0., 0., 1., 0.]])]),\n",
       " 6: ({'ssr_ftest': (0.5254253299745293, 0.7864071389382541, 52.0, 6),\n",
       "   'ssr_chi2test': (3.94068997480897, 0.6847025626408392, 6),\n",
       "   'lrtest': (3.8258544662529346, 0.7002292369330627, 6),\n",
       "   'params_ftest': (0.5254253299745278, 0.7864071389382548, 52.0, 6.0)},\n",
       "  [<statsmodels.regression.linear_model.RegressionResultsWrapper at 0x22521a1d388>,\n",
       "   <statsmodels.regression.linear_model.RegressionResultsWrapper at 0x22521a1d7c8>,\n",
       "   array([[0., 0., 0., 0., 0., 0., 1., 0., 0., 0., 0., 0., 0.],\n",
       "          [0., 0., 0., 0., 0., 0., 0., 1., 0., 0., 0., 0., 0.],\n",
       "          [0., 0., 0., 0., 0., 0., 0., 0., 1., 0., 0., 0., 0.],\n",
       "          [0., 0., 0., 0., 0., 0., 0., 0., 0., 1., 0., 0., 0.],\n",
       "          [0., 0., 0., 0., 0., 0., 0., 0., 0., 0., 1., 0., 0.],\n",
       "          [0., 0., 0., 0., 0., 0., 0., 0., 0., 0., 0., 1., 0.]])]),\n",
       " 7: ({'ssr_ftest': (0.4077997359856137, 0.8928988790371597, 49.0, 7),\n",
       "   'ssr_chi2test': (3.728454729011325, 0.810468819530874, 7),\n",
       "   'lrtest': (3.623892124408968, 0.8219340839841777, 7),\n",
       "   'params_ftest': (0.40779973598561403, 0.8928988790371597, 49.0, 7.0)},\n",
       "  [<statsmodels.regression.linear_model.RegressionResultsWrapper at 0x225219dfb88>,\n",
       "   <statsmodels.regression.linear_model.RegressionResultsWrapper at 0x225219dfdc8>,\n",
       "   array([[0., 0., 0., 0., 0., 0., 0., 1., 0., 0., 0., 0., 0., 0., 0.],\n",
       "          [0., 0., 0., 0., 0., 0., 0., 0., 1., 0., 0., 0., 0., 0., 0.],\n",
       "          [0., 0., 0., 0., 0., 0., 0., 0., 0., 1., 0., 0., 0., 0., 0.],\n",
       "          [0., 0., 0., 0., 0., 0., 0., 0., 0., 0., 1., 0., 0., 0., 0.],\n",
       "          [0., 0., 0., 0., 0., 0., 0., 0., 0., 0., 0., 1., 0., 0., 0.],\n",
       "          [0., 0., 0., 0., 0., 0., 0., 0., 0., 0., 0., 0., 1., 0., 0.],\n",
       "          [0., 0., 0., 0., 0., 0., 0., 0., 0., 0., 0., 0., 0., 1., 0.]])]),\n",
       " 8: ({'ssr_ftest': (0.3685540329499106, 0.931820176820815, 46.0, 8),\n",
       "   'ssr_chi2test': (4.038070274059891, 0.8536723846051932, 8),\n",
       "   'lrtest': (3.9139345144113804, 0.8648038613897676, 8),\n",
       "   'params_ftest': (0.36855403294990735, 0.9318201768208167, 46.0, 8.0)},\n",
       "  [<statsmodels.regression.linear_model.RegressionResultsWrapper at 0x225219e5a08>,\n",
       "   <statsmodels.regression.linear_model.RegressionResultsWrapper at 0x225219e5e08>,\n",
       "   array([[0., 0., 0., 0., 0., 0., 0., 0., 1., 0., 0., 0., 0., 0., 0., 0.,\n",
       "           0.],\n",
       "          [0., 0., 0., 0., 0., 0., 0., 0., 0., 1., 0., 0., 0., 0., 0., 0.,\n",
       "           0.],\n",
       "          [0., 0., 0., 0., 0., 0., 0., 0., 0., 0., 1., 0., 0., 0., 0., 0.,\n",
       "           0.],\n",
       "          [0., 0., 0., 0., 0., 0., 0., 0., 0., 0., 0., 1., 0., 0., 0., 0.,\n",
       "           0.],\n",
       "          [0., 0., 0., 0., 0., 0., 0., 0., 0., 0., 0., 0., 1., 0., 0., 0.,\n",
       "           0.],\n",
       "          [0., 0., 0., 0., 0., 0., 0., 0., 0., 0., 0., 0., 0., 1., 0., 0.,\n",
       "           0.],\n",
       "          [0., 0., 0., 0., 0., 0., 0., 0., 0., 0., 0., 0., 0., 0., 1., 0.,\n",
       "           0.],\n",
       "          [0., 0., 0., 0., 0., 0., 0., 0., 0., 0., 0., 0., 0., 0., 0., 1.,\n",
       "           0.]])]),\n",
       " 9: ({'ssr_ftest': (0.4833575092126412, 0.8777060709729042, 43.0, 9),\n",
       "   'ssr_chi2test': (6.272406747457064, 0.7123753745400858, 9),\n",
       "   'lrtest': (5.975020546187636, 0.7424157219417865, 9),\n",
       "   'params_ftest': (0.4833575092126419, 0.8777060709729038, 43.0, 9.0)},\n",
       "  [<statsmodels.regression.linear_model.RegressionResultsWrapper at 0x225219e5588>,\n",
       "   <statsmodels.regression.linear_model.RegressionResultsWrapper at 0x225219e54c8>,\n",
       "   array([[0., 0., 0., 0., 0., 0., 0., 0., 0., 1., 0., 0., 0., 0., 0., 0.,\n",
       "           0., 0., 0.],\n",
       "          [0., 0., 0., 0., 0., 0., 0., 0., 0., 0., 1., 0., 0., 0., 0., 0.,\n",
       "           0., 0., 0.],\n",
       "          [0., 0., 0., 0., 0., 0., 0., 0., 0., 0., 0., 1., 0., 0., 0., 0.,\n",
       "           0., 0., 0.],\n",
       "          [0., 0., 0., 0., 0., 0., 0., 0., 0., 0., 0., 0., 1., 0., 0., 0.,\n",
       "           0., 0., 0.],\n",
       "          [0., 0., 0., 0., 0., 0., 0., 0., 0., 0., 0., 0., 0., 1., 0., 0.,\n",
       "           0., 0., 0.],\n",
       "          [0., 0., 0., 0., 0., 0., 0., 0., 0., 0., 0., 0., 0., 0., 1., 0.,\n",
       "           0., 0., 0.],\n",
       "          [0., 0., 0., 0., 0., 0., 0., 0., 0., 0., 0., 0., 0., 0., 0., 1.,\n",
       "           0., 0., 0.],\n",
       "          [0., 0., 0., 0., 0., 0., 0., 0., 0., 0., 0., 0., 0., 0., 0., 0.,\n",
       "           1., 0., 0.],\n",
       "          [0., 0., 0., 0., 0., 0., 0., 0., 0., 0., 0., 0., 0., 0., 0., 0.,\n",
       "           0., 1., 0.]])]),\n",
       " 10: ({'ssr_ftest': (0.4057444109245156, 0.935914859214464, 40.0, 10),\n",
       "   'ssr_chi2test': (6.187602266598862, 0.799263065251956, 10),\n",
       "   'lrtest': (5.893507451556843, 0.8241294859696959, 10),\n",
       "   'params_ftest': (0.4057444109245152, 0.935914859214464, 40.0, 10.0)},\n",
       "  [<statsmodels.regression.linear_model.RegressionResultsWrapper at 0x22521a13848>,\n",
       "   <statsmodels.regression.linear_model.RegressionResultsWrapper at 0x22521a13688>,\n",
       "   array([[0., 0., 0., 0., 0., 0., 0., 0., 0., 0., 1., 0., 0., 0., 0., 0.,\n",
       "           0., 0., 0., 0., 0.],\n",
       "          [0., 0., 0., 0., 0., 0., 0., 0., 0., 0., 0., 1., 0., 0., 0., 0.,\n",
       "           0., 0., 0., 0., 0.],\n",
       "          [0., 0., 0., 0., 0., 0., 0., 0., 0., 0., 0., 0., 1., 0., 0., 0.,\n",
       "           0., 0., 0., 0., 0.],\n",
       "          [0., 0., 0., 0., 0., 0., 0., 0., 0., 0., 0., 0., 0., 1., 0., 0.,\n",
       "           0., 0., 0., 0., 0.],\n",
       "          [0., 0., 0., 0., 0., 0., 0., 0., 0., 0., 0., 0., 0., 0., 1., 0.,\n",
       "           0., 0., 0., 0., 0.],\n",
       "          [0., 0., 0., 0., 0., 0., 0., 0., 0., 0., 0., 0., 0., 0., 0., 1.,\n",
       "           0., 0., 0., 0., 0.],\n",
       "          [0., 0., 0., 0., 0., 0., 0., 0., 0., 0., 0., 0., 0., 0., 0., 0.,\n",
       "           1., 0., 0., 0., 0.],\n",
       "          [0., 0., 0., 0., 0., 0., 0., 0., 0., 0., 0., 0., 0., 0., 0., 0.,\n",
       "           0., 1., 0., 0., 0.],\n",
       "          [0., 0., 0., 0., 0., 0., 0., 0., 0., 0., 0., 0., 0., 0., 0., 0.,\n",
       "           0., 0., 1., 0., 0.],\n",
       "          [0., 0., 0., 0., 0., 0., 0., 0., 0., 0., 0., 0., 0., 0., 0., 0.,\n",
       "           0., 0., 0., 1., 0.]])])}"
      ]
     },
     "execution_count": 80,
     "metadata": {},
     "output_type": "execute_result"
    }
   ],
   "source": [
    "grangercausalitytests(current_diff[[\"Inflation\", \"Unemployment\"]], maxlag= 10)"
   ]
  },
  {
   "cell_type": "code",
   "execution_count": 81,
   "metadata": {},
   "outputs": [
    {
     "name": "stdout",
     "output_type": "stream",
     "text": [
      "\n",
      "Granger Causality\n",
      "number of lags (no zero) 1\n",
      "ssr based F test:         F=5.4523  , p=0.0225  , df_denom=67, df_num=1\n",
      "ssr based chi2 test:   chi2=5.6964  , p=0.0170  , df=1\n",
      "likelihood ratio test: chi2=5.4765  , p=0.0193  , df=1\n",
      "parameter F test:         F=5.4523  , p=0.0225  , df_denom=67, df_num=1\n",
      "\n",
      "Granger Causality\n",
      "number of lags (no zero) 2\n",
      "ssr based F test:         F=3.7182  , p=0.0297  , df_denom=64, df_num=2\n",
      "ssr based chi2 test:   chi2=8.0175  , p=0.0182  , df=2\n",
      "likelihood ratio test: chi2=7.5849  , p=0.0225  , df=2\n",
      "parameter F test:         F=3.7182  , p=0.0297  , df_denom=64, df_num=2\n",
      "\n",
      "Granger Causality\n",
      "number of lags (no zero) 3\n",
      "ssr based F test:         F=2.4433  , p=0.0726  , df_denom=61, df_num=3\n",
      "ssr based chi2 test:   chi2=8.1711  , p=0.0426  , df=3\n",
      "likelihood ratio test: chi2=7.7163  , p=0.0523  , df=3\n",
      "parameter F test:         F=2.4433  , p=0.0726  , df_denom=61, df_num=3\n",
      "\n",
      "Granger Causality\n",
      "number of lags (no zero) 4\n",
      "ssr based F test:         F=1.7114  , p=0.1598  , df_denom=58, df_num=4\n",
      "ssr based chi2 test:   chi2=7.9078  , p=0.0950  , df=4\n",
      "likelihood ratio test: chi2=7.4749  , p=0.1128  , df=4\n",
      "parameter F test:         F=1.7114  , p=0.1598  , df_denom=58, df_num=4\n",
      "\n",
      "Granger Causality\n",
      "number of lags (no zero) 5\n",
      "ssr based F test:         F=1.4080  , p=0.2358  , df_denom=55, df_num=5\n",
      "ssr based chi2 test:   chi2=8.4478  , p=0.1332  , df=5\n",
      "likelihood ratio test: chi2=7.9493  , p=0.1591  , df=5\n",
      "parameter F test:         F=1.4080  , p=0.2358  , df_denom=55, df_num=5\n",
      "\n",
      "Granger Causality\n",
      "number of lags (no zero) 6\n",
      "ssr based F test:         F=1.1501  , p=0.3472  , df_denom=52, df_num=6\n",
      "ssr based chi2 test:   chi2=8.6258  , p=0.1957  , df=6\n",
      "likelihood ratio test: chi2=8.0996  , p=0.2309  , df=6\n",
      "parameter F test:         F=1.1501  , p=0.3472  , df_denom=52, df_num=6\n",
      "\n",
      "Granger Causality\n",
      "number of lags (no zero) 7\n",
      "ssr based F test:         F=1.1068  , p=0.3740  , df_denom=49, df_num=7\n",
      "ssr based chi2 test:   chi2=10.1191 , p=0.1819  , df=7\n",
      "likelihood ratio test: chi2=9.3946  , p=0.2256  , df=7\n",
      "parameter F test:         F=1.1068  , p=0.3740  , df_denom=49, df_num=7\n",
      "\n",
      "Granger Causality\n",
      "number of lags (no zero) 8\n",
      "ssr based F test:         F=0.9710  , p=0.4702  , df_denom=46, df_num=8\n",
      "ssr based chi2 test:   chi2=10.6390 , p=0.2230  , df=8\n",
      "likelihood ratio test: chi2=9.8305  , p=0.2771  , df=8\n",
      "parameter F test:         F=0.9710  , p=0.4702  , df_denom=46, df_num=8\n",
      "\n",
      "Granger Causality\n",
      "number of lags (no zero) 9\n",
      "ssr based F test:         F=1.0477  , p=0.4195  , df_denom=43, df_num=9\n",
      "ssr based chi2 test:   chi2=13.5960 , p=0.1374  , df=9\n",
      "likelihood ratio test: chi2=12.2927 , p=0.1973  , df=9\n",
      "parameter F test:         F=1.0477  , p=0.4195  , df_denom=43, df_num=9\n",
      "\n",
      "Granger Causality\n",
      "number of lags (no zero) 10\n",
      "ssr based F test:         F=0.9570  , p=0.4943  , df_denom=40, df_num=10\n",
      "ssr based chi2 test:   chi2=14.5946 , p=0.1476  , df=10\n",
      "likelihood ratio test: chi2=13.0852 , p=0.2189  , df=10\n",
      "parameter F test:         F=0.9570  , p=0.4943  , df_denom=40, df_num=10\n"
     ]
    },
    {
     "data": {
      "text/plain": [
       "{1: ({'ssr_ftest': (5.452274323029084, 0.022547178201434148, 67.0, 1),\n",
       "   'ssr_chi2test': (5.696406009134865, 0.01699968811060229, 1),\n",
       "   'lrtest': (5.476480835366004, 0.019274024407096114, 1),\n",
       "   'params_ftest': (5.452274323029082, 0.022547178201434148, 67.0, 1.0)},\n",
       "  [<statsmodels.regression.linear_model.RegressionResultsWrapper at 0x225219ccb88>,\n",
       "   <statsmodels.regression.linear_model.RegressionResultsWrapper at 0x225219cc608>,\n",
       "   array([[0., 1., 0.]])]),\n",
       " 2: ({'ssr_ftest': (3.718245438708849, 0.029669863994032885, 64.0, 2),\n",
       "   'ssr_chi2test': (8.017466727215956, 0.018156378207579763, 2),\n",
       "   'lrtest': (7.584875518017213, 0.02254058630372247, 2),\n",
       "   'params_ftest': (3.7182454387088524, 0.029669863994032767, 64.0, 2.0)},\n",
       "  [<statsmodels.regression.linear_model.RegressionResultsWrapper at 0x22521a18c88>,\n",
       "   <statsmodels.regression.linear_model.RegressionResultsWrapper at 0x22521a3bc88>,\n",
       "   array([[0., 0., 1., 0., 0.],\n",
       "          [0., 0., 0., 1., 0.]])]),\n",
       " 3: ({'ssr_ftest': (2.4433255294782117, 0.0726095926915348, 61.0, 3),\n",
       "   'ssr_chi2test': (8.171121442845166, 0.04260440830463271, 3),\n",
       "   'lrtest': (7.716279735614421, 0.05225411785191827, 3),\n",
       "   'params_ftest': (2.443325529478213, 0.0726095926915348, 61.0, 3.0)},\n",
       "  [<statsmodels.regression.linear_model.RegressionResultsWrapper at 0x22521a2e988>,\n",
       "   <statsmodels.regression.linear_model.RegressionResultsWrapper at 0x22521a2e888>,\n",
       "   array([[0., 0., 0., 1., 0., 0., 0.],\n",
       "          [0., 0., 0., 0., 1., 0., 0.],\n",
       "          [0., 0., 0., 0., 0., 1., 0.]])]),\n",
       " 4: ({'ssr_ftest': (1.7113990634963316, 0.1597938261149623, 58.0, 4),\n",
       "   'ssr_chi2test': (7.907843948569257, 0.09501292030820191, 4),\n",
       "   'lrtest': (7.474921414684019, 0.11282025043108526, 4),\n",
       "   'params_ftest': (1.7113990634963527, 0.1597938261149576, 58.0, 4.0)},\n",
       "  [<statsmodels.regression.linear_model.RegressionResultsWrapper at 0x225219ec348>,\n",
       "   <statsmodels.regression.linear_model.RegressionResultsWrapper at 0x225219ec4c8>,\n",
       "   array([[0., 0., 0., 0., 1., 0., 0., 0., 0.],\n",
       "          [0., 0., 0., 0., 0., 1., 0., 0., 0.],\n",
       "          [0., 0., 0., 0., 0., 0., 1., 0., 0.],\n",
       "          [0., 0., 0., 0., 0., 0., 0., 1., 0.]])]),\n",
       " 5: ({'ssr_ftest': (1.4079736847094362, 0.2358336448138284, 55.0, 5),\n",
       "   'ssr_chi2test': (8.447842108256616, 0.13322037290856448, 5),\n",
       "   'lrtest': (7.949306127908983, 0.15905168489386654, 5),\n",
       "   'params_ftest': (1.4079736847094373, 0.23583364481382763, 55.0, 5.0)},\n",
       "  [<statsmodels.regression.linear_model.RegressionResultsWrapper at 0x22521a33a08>,\n",
       "   <statsmodels.regression.linear_model.RegressionResultsWrapper at 0x22521a33f88>,\n",
       "   array([[0., 0., 0., 0., 0., 1., 0., 0., 0., 0., 0.],\n",
       "          [0., 0., 0., 0., 0., 0., 1., 0., 0., 0., 0.],\n",
       "          [0., 0., 0., 0., 0., 0., 0., 1., 0., 0., 0.],\n",
       "          [0., 0., 0., 0., 0., 0., 0., 0., 1., 0., 0.],\n",
       "          [0., 0., 0., 0., 0., 0., 0., 0., 0., 1., 0.]])]),\n",
       " 6: ({'ssr_ftest': (1.1501091404731347, 0.34720635442059744, 52.0, 6),\n",
       "   'ssr_chi2test': (8.62581855354851, 0.195740916794936, 6),\n",
       "   'lrtest': (8.099551842806619, 0.23090026128368887, 6),\n",
       "   'params_ftest': (1.150109140473134, 0.34720635442059744, 52.0, 6.0)},\n",
       "  [<statsmodels.regression.linear_model.RegressionResultsWrapper at 0x225219d0a48>,\n",
       "   <statsmodels.regression.linear_model.RegressionResultsWrapper at 0x225219d0388>,\n",
       "   array([[0., 0., 0., 0., 0., 0., 1., 0., 0., 0., 0., 0., 0.],\n",
       "          [0., 0., 0., 0., 0., 0., 0., 1., 0., 0., 0., 0., 0.],\n",
       "          [0., 0., 0., 0., 0., 0., 0., 0., 1., 0., 0., 0., 0.],\n",
       "          [0., 0., 0., 0., 0., 0., 0., 0., 0., 1., 0., 0., 0.],\n",
       "          [0., 0., 0., 0., 0., 0., 0., 0., 0., 0., 1., 0., 0.],\n",
       "          [0., 0., 0., 0., 0., 0., 0., 0., 0., 0., 0., 1., 0.]])]),\n",
       " 7: ({'ssr_ftest': (1.1067796710938327, 0.37395097151644147, 49.0, 7),\n",
       "   'ssr_chi2test': (10.119128421429329, 0.18192249130887872, 7),\n",
       "   'lrtest': (9.394595773967211, 0.22555304623570407, 7),\n",
       "   'params_ftest': (1.1067796710938318, 0.3739509715164409, 49.0, 7.0)},\n",
       "  [<statsmodels.regression.linear_model.RegressionResultsWrapper at 0x225219d0548>,\n",
       "   <statsmodels.regression.linear_model.RegressionResultsWrapper at 0x225219d0088>,\n",
       "   array([[0., 0., 0., 0., 0., 0., 0., 1., 0., 0., 0., 0., 0., 0., 0.],\n",
       "          [0., 0., 0., 0., 0., 0., 0., 0., 1., 0., 0., 0., 0., 0., 0.],\n",
       "          [0., 0., 0., 0., 0., 0., 0., 0., 0., 1., 0., 0., 0., 0., 0.],\n",
       "          [0., 0., 0., 0., 0., 0., 0., 0., 0., 0., 1., 0., 0., 0., 0.],\n",
       "          [0., 0., 0., 0., 0., 0., 0., 0., 0., 0., 0., 1., 0., 0., 0.],\n",
       "          [0., 0., 0., 0., 0., 0., 0., 0., 0., 0., 0., 0., 1., 0., 0.],\n",
       "          [0., 0., 0., 0., 0., 0., 0., 0., 0., 0., 0., 0., 0., 1., 0.]])]),\n",
       " 8: ({'ssr_ftest': (0.9710169169878803, 0.4702285915046529, 46.0, 8),\n",
       "   'ssr_chi2test': (10.638967960041123, 0.2230065555791861, 8),\n",
       "   'lrtest': (9.83049575821451, 0.2771250899252368, 8),\n",
       "   'params_ftest': (0.9710169169878818, 0.47022859150465135, 46.0, 8.0)},\n",
       "  [<statsmodels.regression.linear_model.RegressionResultsWrapper at 0x22521a2a0c8>,\n",
       "   <statsmodels.regression.linear_model.RegressionResultsWrapper at 0x22521a2aac8>,\n",
       "   array([[0., 0., 0., 0., 0., 0., 0., 0., 1., 0., 0., 0., 0., 0., 0., 0.,\n",
       "           0.],\n",
       "          [0., 0., 0., 0., 0., 0., 0., 0., 0., 1., 0., 0., 0., 0., 0., 0.,\n",
       "           0.],\n",
       "          [0., 0., 0., 0., 0., 0., 0., 0., 0., 0., 1., 0., 0., 0., 0., 0.,\n",
       "           0.],\n",
       "          [0., 0., 0., 0., 0., 0., 0., 0., 0., 0., 0., 1., 0., 0., 0., 0.,\n",
       "           0.],\n",
       "          [0., 0., 0., 0., 0., 0., 0., 0., 0., 0., 0., 0., 1., 0., 0., 0.,\n",
       "           0.],\n",
       "          [0., 0., 0., 0., 0., 0., 0., 0., 0., 0., 0., 0., 0., 1., 0., 0.,\n",
       "           0.],\n",
       "          [0., 0., 0., 0., 0., 0., 0., 0., 0., 0., 0., 0., 0., 0., 1., 0.,\n",
       "           0.],\n",
       "          [0., 0., 0., 0., 0., 0., 0., 0., 0., 0., 0., 0., 0., 0., 0., 1.,\n",
       "           0.]])]),\n",
       " 9: ({'ssr_ftest': (1.047724010973364, 0.4195288347258112, 43.0, 9),\n",
       "   'ssr_chi2test': (13.596046467979933, 0.13743762687490624, 9),\n",
       "   'lrtest': (12.292715285302876, 0.19730590975902765, 9),\n",
       "   'params_ftest': (1.047724010973364, 0.4195288347258112, 43.0, 9.0)},\n",
       "  [<statsmodels.regression.linear_model.RegressionResultsWrapper at 0x225219c99c8>,\n",
       "   <statsmodels.regression.linear_model.RegressionResultsWrapper at 0x225219c9bc8>,\n",
       "   array([[0., 0., 0., 0., 0., 0., 0., 0., 0., 1., 0., 0., 0., 0., 0., 0.,\n",
       "           0., 0., 0.],\n",
       "          [0., 0., 0., 0., 0., 0., 0., 0., 0., 0., 1., 0., 0., 0., 0., 0.,\n",
       "           0., 0., 0.],\n",
       "          [0., 0., 0., 0., 0., 0., 0., 0., 0., 0., 0., 1., 0., 0., 0., 0.,\n",
       "           0., 0., 0.],\n",
       "          [0., 0., 0., 0., 0., 0., 0., 0., 0., 0., 0., 0., 1., 0., 0., 0.,\n",
       "           0., 0., 0.],\n",
       "          [0., 0., 0., 0., 0., 0., 0., 0., 0., 0., 0., 0., 0., 1., 0., 0.,\n",
       "           0., 0., 0.],\n",
       "          [0., 0., 0., 0., 0., 0., 0., 0., 0., 0., 0., 0., 0., 0., 1., 0.,\n",
       "           0., 0., 0.],\n",
       "          [0., 0., 0., 0., 0., 0., 0., 0., 0., 0., 0., 0., 0., 0., 0., 1.,\n",
       "           0., 0., 0.],\n",
       "          [0., 0., 0., 0., 0., 0., 0., 0., 0., 0., 0., 0., 0., 0., 0., 0.,\n",
       "           1., 0., 0.],\n",
       "          [0., 0., 0., 0., 0., 0., 0., 0., 0., 0., 0., 0., 0., 0., 0., 0.,\n",
       "           0., 1., 0.]])]),\n",
       " 10: ({'ssr_ftest': (0.9570256042702634, 0.4942733304923064, 40.0, 10),\n",
       "   'ssr_chi2test': (14.594640465121518, 0.14755418482749802, 10),\n",
       "   'lrtest': (13.085202914018254, 0.21894697772827146, 10),\n",
       "   'params_ftest': (0.957025604270266, 0.4942733304923048, 40.0, 10.0)},\n",
       "  [<statsmodels.regression.linear_model.RegressionResultsWrapper at 0x225219d4f88>,\n",
       "   <statsmodels.regression.linear_model.RegressionResultsWrapper at 0x225219d4c48>,\n",
       "   array([[0., 0., 0., 0., 0., 0., 0., 0., 0., 0., 1., 0., 0., 0., 0., 0.,\n",
       "           0., 0., 0., 0., 0.],\n",
       "          [0., 0., 0., 0., 0., 0., 0., 0., 0., 0., 0., 1., 0., 0., 0., 0.,\n",
       "           0., 0., 0., 0., 0.],\n",
       "          [0., 0., 0., 0., 0., 0., 0., 0., 0., 0., 0., 0., 1., 0., 0., 0.,\n",
       "           0., 0., 0., 0., 0.],\n",
       "          [0., 0., 0., 0., 0., 0., 0., 0., 0., 0., 0., 0., 0., 1., 0., 0.,\n",
       "           0., 0., 0., 0., 0.],\n",
       "          [0., 0., 0., 0., 0., 0., 0., 0., 0., 0., 0., 0., 0., 0., 1., 0.,\n",
       "           0., 0., 0., 0., 0.],\n",
       "          [0., 0., 0., 0., 0., 0., 0., 0., 0., 0., 0., 0., 0., 0., 0., 1.,\n",
       "           0., 0., 0., 0., 0.],\n",
       "          [0., 0., 0., 0., 0., 0., 0., 0., 0., 0., 0., 0., 0., 0., 0., 0.,\n",
       "           1., 0., 0., 0., 0.],\n",
       "          [0., 0., 0., 0., 0., 0., 0., 0., 0., 0., 0., 0., 0., 0., 0., 0.,\n",
       "           0., 1., 0., 0., 0.],\n",
       "          [0., 0., 0., 0., 0., 0., 0., 0., 0., 0., 0., 0., 0., 0., 0., 0.,\n",
       "           0., 0., 1., 0., 0.],\n",
       "          [0., 0., 0., 0., 0., 0., 0., 0., 0., 0., 0., 0., 0., 0., 0., 0.,\n",
       "           0., 0., 0., 1., 0.]])])}"
      ]
     },
     "execution_count": 81,
     "metadata": {},
     "output_type": "execute_result"
    }
   ],
   "source": [
    "grangercausalitytests(current_diff[[\"Unemployment\", \"Inflation\"]], maxlag= 10)"
   ]
  },
  {
   "cell_type": "code",
   "execution_count": 61,
   "metadata": {},
   "outputs": [
    {
     "data": {
      "text/html": [
       "<div>\n",
       "<style scoped>\n",
       "    .dataframe tbody tr th:only-of-type {\n",
       "        vertical-align: middle;\n",
       "    }\n",
       "\n",
       "    .dataframe tbody tr th {\n",
       "        vertical-align: top;\n",
       "    }\n",
       "\n",
       "    .dataframe thead th {\n",
       "        text-align: right;\n",
       "    }\n",
       "</style>\n",
       "<table border=\"1\" class=\"dataframe\">\n",
       "  <thead>\n",
       "    <tr style=\"text-align: right;\">\n",
       "      <th></th>\n",
       "      <th>Inflation_x</th>\n",
       "      <th>Unemployment_x</th>\n",
       "    </tr>\n",
       "  </thead>\n",
       "  <tbody>\n",
       "    <tr>\n",
       "      <th>Inflation_y</th>\n",
       "      <td>1.000</td>\n",
       "      <td>0.2754</td>\n",
       "    </tr>\n",
       "    <tr>\n",
       "      <th>Unemployment_y</th>\n",
       "      <td>0.017</td>\n",
       "      <td>1.0000</td>\n",
       "    </tr>\n",
       "  </tbody>\n",
       "</table>\n",
       "</div>"
      ],
      "text/plain": [
       "                Inflation_x  Unemployment_x\n",
       "Inflation_y           1.000          0.2754\n",
       "Unemployment_y        0.017          1.0000"
      ]
     },
     "execution_count": 61,
     "metadata": {},
     "output_type": "execute_result"
    }
   ],
   "source": [
    "grangers_causation_matrix(current_diff, variables = current_diff.columns)"
   ]
  },
  {
   "cell_type": "markdown",
   "metadata": {},
   "source": [
    "### Observation for current data time periods: Inflation does not Granger-Cause Unemployment for any lag order. Unemployment Granger-Causes Inflation for lag orders 1-3"
   ]
  },
  {
   "cell_type": "code",
   "execution_count": null,
   "metadata": {},
   "outputs": [],
   "source": []
  },
  {
   "cell_type": "code",
   "execution_count": null,
   "metadata": {},
   "outputs": [],
   "source": []
  },
  {
   "cell_type": "code",
   "execution_count": null,
   "metadata": {},
   "outputs": [],
   "source": []
  },
  {
   "cell_type": "code",
   "execution_count": null,
   "metadata": {},
   "outputs": [],
   "source": []
  },
  {
   "cell_type": "code",
   "execution_count": null,
   "metadata": {},
   "outputs": [],
   "source": []
  },
  {
   "cell_type": "code",
   "execution_count": null,
   "metadata": {},
   "outputs": [],
   "source": []
  },
  {
   "cell_type": "code",
   "execution_count": null,
   "metadata": {},
   "outputs": [],
   "source": []
  },
  {
   "cell_type": "code",
   "execution_count": null,
   "metadata": {},
   "outputs": [],
   "source": []
  },
  {
   "cell_type": "code",
   "execution_count": null,
   "metadata": {},
   "outputs": [],
   "source": []
  }
 ],
 "metadata": {
  "interpreter": {
   "hash": "009c6260f8c949f949e8d5c80e91b7d11da42068722b763148e110eb4d6efd9c"
  },
  "kernelspec": {
   "display_name": "Python 3 (ipykernel)",
   "language": "python",
   "name": "python3"
  },
  "language_info": {
   "codemirror_mode": {
    "name": "ipython",
    "version": 3
   },
   "file_extension": ".py",
   "mimetype": "text/x-python",
   "name": "python",
   "nbconvert_exporter": "python",
   "pygments_lexer": "ipython3",
   "version": "3.7.4"
  }
 },
 "nbformat": 4,
 "nbformat_minor": 2
}
